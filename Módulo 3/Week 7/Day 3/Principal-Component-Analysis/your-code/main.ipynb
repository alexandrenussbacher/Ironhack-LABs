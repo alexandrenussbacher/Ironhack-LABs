{
 "cells": [
  {
   "cell_type": "markdown",
   "metadata": {},
   "source": [
    "import pandas as pd\n",
    "import numpy as np\n",
    "import matplotlib.pyplot as plt\n",
    "# ^^^ pyforest auto-imports - don't write above this line\n",
    "# Before your start:\n",
    "\n",
    "- Comment as much as you can and use the resources\n",
    "- Happy learning!"
   ]
  },
  {
   "cell_type": "markdown",
   "metadata": {},
   "source": [
    "# Challenge 1 - Reading and Standardizing the Data\n",
    "\n",
    "In this challenge we will work with image data and reduce the dimensions of the data to create a 2 dimensional plot. While we have not worked much with image data before, it can be represented as a numpy array where each pixel is assigned a numeric value. In this lesson, we will look at a dataset of cats and a dataset of dogs and see whether reducing them to two dimensions allows us to see if the data is separable. We will start by loading and processing the data. Run the cell below to load the two csv files and convert them into numpy arrays."
   ]
  },
  {
   "cell_type": "markdown",
   "metadata": {},
   "source": [
    "## Read the files into dataframes named `dogs` and `cats`"
   ]
  },
  {
   "cell_type": "code",
   "execution_count": 1,
   "metadata": {
    "ExecuteTime": {
     "end_time": "2020-12-02T19:12:49.137569Z",
     "start_time": "2020-12-02T19:12:45.701186Z"
    }
   },
   "outputs": [],
   "source": [
    "#your code here\n",
    "import numpy as np\n",
    "import matplotlib.pyplot as plt\n",
    "import pandas as pd\n",
    "import seaborn as sns"
   ]
  },
  {
   "cell_type": "code",
   "execution_count": 2,
   "metadata": {
    "ExecuteTime": {
     "end_time": "2020-12-02T19:13:45.453687Z",
     "start_time": "2020-12-02T19:13:44.127398Z"
    }
   },
   "outputs": [],
   "source": [
    "dogs=pd.read_csv(\"../data/dogs.csv\")\n",
    "cats=pd.read_csv(\"../data/cats.csv\")"
   ]
  },
  {
   "cell_type": "markdown",
   "metadata": {},
   "source": [
    "Next, we'll examine the shape of both the cats and the dogs arrays. Print out both shapes below."
   ]
  },
  {
   "cell_type": "code",
   "execution_count": 3,
   "metadata": {
    "ExecuteTime": {
     "end_time": "2020-12-02T19:18:09.818838Z",
     "start_time": "2020-12-02T19:18:09.807529Z"
    }
   },
   "outputs": [
    {
     "name": "stdout",
     "output_type": "stream",
     "text": [
      "(80, 4096)\n",
      "(80, 4096)\n"
     ]
    }
   ],
   "source": [
    "# Your code here:\n",
    "print(dogs.shape)\n",
    "print(cats.shape)"
   ]
  },
  {
   "cell_type": "markdown",
   "metadata": {},
   "source": [
    "What this means is that both arrays contain 80 images each (the number of rows). Each image is comprised of 64x64 pixels (so a total of 4096 pixels per image). The images have been flattened such that all 4096 are in a single row.\n",
    "\n",
    "Print out row 0 of the cats dataframe to see what the pixels values look like."
   ]
  },
  {
   "cell_type": "code",
   "execution_count": 7,
   "metadata": {
    "ExecuteTime": {
     "end_time": "2020-12-02T19:25:08.490605Z",
     "start_time": "2020-12-02T19:25:08.466077Z"
    }
   },
   "outputs": [
    {
     "data": {
      "text/plain": [
       "0       64\n",
       "1       64\n",
       "2       64\n",
       "3       64\n",
       "4       64\n",
       "        ..\n",
       "4091    77\n",
       "4092    64\n",
       "4093    61\n",
       "4094    61\n",
       "4095    61\n",
       "Name: 0, Length: 4096, dtype: int64"
      ]
     },
     "execution_count": 7,
     "metadata": {},
     "output_type": "execute_result"
    }
   ],
   "source": [
    "# Your code here:\n",
    "cats.loc[0, :]"
   ]
  },
  {
   "cell_type": "markdown",
   "metadata": {},
   "source": [
    "Using `matplotlib` we can plot a single cat or a single dog. We do this by reshaping the observation vector back to a squared image and then using the `imshow` function.\n",
    "\n",
    "Plot the image of the first cat and dog of your dataframes\n",
    "\n",
    "_Extra: you can play with `imshow`'s argument `cmap` to see which colors are suitable for visualization_"
   ]
  },
  {
   "cell_type": "code",
   "execution_count": 23,
   "metadata": {
    "ExecuteTime": {
     "end_time": "2020-12-02T19:31:57.807577Z",
     "start_time": "2020-12-02T19:31:57.118180Z"
    },
    "scrolled": true
   },
   "outputs": [
    {
     "data": {
      "text/plain": [
       "<matplotlib.image.AxesImage at 0x1209521c0>"
      ]
     },
     "execution_count": 23,
     "metadata": {},
     "output_type": "execute_result"
    },
    {
     "data": {
      "image/png": "[encoded data removed]",
      "text/plain": [
       "<Figure size 648x648 with 2 Axes>"
      ]
     },
     "metadata": {
      "needs_background": "light"
     },
     "output_type": "display_data"
    }
   ],
   "source": [
    "# your code here\n",
    "fig, ax=plt.subplots(1,2, figsize=(9,9))\n",
    "ax[0].imshow(cats.loc[0, :].values.reshape(64, 64), cmap=\"copper\")\n",
    "ax[1].imshow(dogs.loc[0, :].values.reshape(64, 64), cmap=\"copper\")"
   ]
  },
  {
   "cell_type": "markdown",
   "metadata": {},
   "source": [
    "Now concatenate the cats and dogs dataframes. Make sure to put dogs first. This should result in a dataframe containing 160 observations and 4096 dimensions."
   ]
  },
  {
   "cell_type": "code",
   "execution_count": 32,
   "metadata": {
    "ExecuteTime": {
     "end_time": "2020-12-02T19:39:39.516737Z",
     "start_time": "2020-12-02T19:39:39.425236Z"
    }
   },
   "outputs": [
    {
     "data": {
      "text/html": [
       "<div>\n",
       "<style scoped>\n",
       "    .dataframe tbody tr th:only-of-type {\n",
       "        vertical-align: middle;\n",
       "    }\n",
       "\n",
       "    .dataframe tbody tr th {\n",
       "        vertical-align: top;\n",
       "    }\n",
       "\n",
       "    .dataframe thead th {\n",
       "        text-align: right;\n",
       "    }\n",
       "</style>\n",
       "<table border=\"1\" class=\"dataframe\">\n",
       "  <thead>\n",
       "    <tr style=\"text-align: right;\">\n",
       "      <th></th>\n",
       "      <th>0</th>\n",
       "      <th>1</th>\n",
       "      <th>2</th>\n",
       "      <th>3</th>\n",
       "      <th>4</th>\n",
       "      <th>5</th>\n",
       "      <th>6</th>\n",
       "      <th>7</th>\n",
       "      <th>8</th>\n",
       "      <th>9</th>\n",
       "      <th>...</th>\n",
       "      <th>4086</th>\n",
       "      <th>4087</th>\n",
       "      <th>4088</th>\n",
       "      <th>4089</th>\n",
       "      <th>4090</th>\n",
       "      <th>4091</th>\n",
       "      <th>4092</th>\n",
       "      <th>4093</th>\n",
       "      <th>4094</th>\n",
       "      <th>4095</th>\n",
       "    </tr>\n",
       "  </thead>\n",
       "  <tbody>\n",
       "    <tr>\n",
       "      <th>0</th>\n",
       "      <td>224</td>\n",
       "      <td>224</td>\n",
       "      <td>224</td>\n",
       "      <td>218</td>\n",
       "      <td>213</td>\n",
       "      <td>213</td>\n",
       "      <td>213</td>\n",
       "      <td>204</td>\n",
       "      <td>224</td>\n",
       "      <td>213</td>\n",
       "      <td>...</td>\n",
       "      <td>130</td>\n",
       "      <td>123</td>\n",
       "      <td>113</td>\n",
       "      <td>100</td>\n",
       "      <td>100</td>\n",
       "      <td>100</td>\n",
       "      <td>100</td>\n",
       "      <td>106</td>\n",
       "      <td>100</td>\n",
       "      <td>100</td>\n",
       "    </tr>\n",
       "    <tr>\n",
       "      <th>1</th>\n",
       "      <td>131</td>\n",
       "      <td>124</td>\n",
       "      <td>131</td>\n",
       "      <td>134</td>\n",
       "      <td>173</td>\n",
       "      <td>242</td>\n",
       "      <td>242</td>\n",
       "      <td>206</td>\n",
       "      <td>96</td>\n",
       "      <td>96</td>\n",
       "      <td>...</td>\n",
       "      <td>104</td>\n",
       "      <td>96</td>\n",
       "      <td>89</td>\n",
       "      <td>96</td>\n",
       "      <td>110</td>\n",
       "      <td>124</td>\n",
       "      <td>81</td>\n",
       "      <td>54</td>\n",
       "      <td>104</td>\n",
       "      <td>124</td>\n",
       "    </tr>\n",
       "    <tr>\n",
       "      <th>2</th>\n",
       "      <td>127</td>\n",
       "      <td>136</td>\n",
       "      <td>136</td>\n",
       "      <td>136</td>\n",
       "      <td>136</td>\n",
       "      <td>127</td>\n",
       "      <td>136</td>\n",
       "      <td>127</td>\n",
       "      <td>115</td>\n",
       "      <td>104</td>\n",
       "      <td>...</td>\n",
       "      <td>136</td>\n",
       "      <td>144</td>\n",
       "      <td>161</td>\n",
       "      <td>161</td>\n",
       "      <td>144</td>\n",
       "      <td>136</td>\n",
       "      <td>115</td>\n",
       "      <td>104</td>\n",
       "      <td>89</td>\n",
       "      <td>104</td>\n",
       "    </tr>\n",
       "    <tr>\n",
       "      <th>3</th>\n",
       "      <td>126</td>\n",
       "      <td>125</td>\n",
       "      <td>125</td>\n",
       "      <td>107</td>\n",
       "      <td>94</td>\n",
       "      <td>94</td>\n",
       "      <td>107</td>\n",
       "      <td>94</td>\n",
       "      <td>93</td>\n",
       "      <td>94</td>\n",
       "      <td>...</td>\n",
       "      <td>125</td>\n",
       "      <td>126</td>\n",
       "      <td>136</td>\n",
       "      <td>136</td>\n",
       "      <td>107</td>\n",
       "      <td>94</td>\n",
       "      <td>93</td>\n",
       "      <td>93</td>\n",
       "      <td>93</td>\n",
       "      <td>93</td>\n",
       "    </tr>\n",
       "    <tr>\n",
       "      <th>4</th>\n",
       "      <td>136</td>\n",
       "      <td>122</td>\n",
       "      <td>122</td>\n",
       "      <td>127</td>\n",
       "      <td>122</td>\n",
       "      <td>114</td>\n",
       "      <td>122</td>\n",
       "      <td>114</td>\n",
       "      <td>114</td>\n",
       "      <td>114</td>\n",
       "      <td>...</td>\n",
       "      <td>94</td>\n",
       "      <td>127</td>\n",
       "      <td>147</td>\n",
       "      <td>173</td>\n",
       "      <td>162</td>\n",
       "      <td>147</td>\n",
       "      <td>147</td>\n",
       "      <td>136</td>\n",
       "      <td>114</td>\n",
       "      <td>108</td>\n",
       "    </tr>\n",
       "    <tr>\n",
       "      <th>...</th>\n",
       "      <td>...</td>\n",
       "      <td>...</td>\n",
       "      <td>...</td>\n",
       "      <td>...</td>\n",
       "      <td>...</td>\n",
       "      <td>...</td>\n",
       "      <td>...</td>\n",
       "      <td>...</td>\n",
       "      <td>...</td>\n",
       "      <td>...</td>\n",
       "      <td>...</td>\n",
       "      <td>...</td>\n",
       "      <td>...</td>\n",
       "      <td>...</td>\n",
       "      <td>...</td>\n",
       "      <td>...</td>\n",
       "      <td>...</td>\n",
       "      <td>...</td>\n",
       "      <td>...</td>\n",
       "      <td>...</td>\n",
       "      <td>...</td>\n",
       "    </tr>\n",
       "    <tr>\n",
       "      <th>155</th>\n",
       "      <td>69</td>\n",
       "      <td>69</td>\n",
       "      <td>70</td>\n",
       "      <td>71</td>\n",
       "      <td>71</td>\n",
       "      <td>73</td>\n",
       "      <td>76</td>\n",
       "      <td>78</td>\n",
       "      <td>87</td>\n",
       "      <td>90</td>\n",
       "      <td>...</td>\n",
       "      <td>124</td>\n",
       "      <td>107</td>\n",
       "      <td>104</td>\n",
       "      <td>109</td>\n",
       "      <td>120</td>\n",
       "      <td>110</td>\n",
       "      <td>69</td>\n",
       "      <td>54</td>\n",
       "      <td>59</td>\n",
       "      <td>66</td>\n",
       "    </tr>\n",
       "    <tr>\n",
       "      <th>156</th>\n",
       "      <td>28</td>\n",
       "      <td>26</td>\n",
       "      <td>31</td>\n",
       "      <td>29</td>\n",
       "      <td>27</td>\n",
       "      <td>27</td>\n",
       "      <td>33</td>\n",
       "      <td>32</td>\n",
       "      <td>27</td>\n",
       "      <td>23</td>\n",
       "      <td>...</td>\n",
       "      <td>106</td>\n",
       "      <td>110</td>\n",
       "      <td>120</td>\n",
       "      <td>124</td>\n",
       "      <td>126</td>\n",
       "      <td>128</td>\n",
       "      <td>128</td>\n",
       "      <td>136</td>\n",
       "      <td>139</td>\n",
       "      <td>144</td>\n",
       "    </tr>\n",
       "    <tr>\n",
       "      <th>157</th>\n",
       "      <td>60</td>\n",
       "      <td>47</td>\n",
       "      <td>48</td>\n",
       "      <td>70</td>\n",
       "      <td>71</td>\n",
       "      <td>60</td>\n",
       "      <td>50</td>\n",
       "      <td>61</td>\n",
       "      <td>63</td>\n",
       "      <td>63</td>\n",
       "      <td>...</td>\n",
       "      <td>161</td>\n",
       "      <td>160</td>\n",
       "      <td>149</td>\n",
       "      <td>131</td>\n",
       "      <td>128</td>\n",
       "      <td>135</td>\n",
       "      <td>114</td>\n",
       "      <td>78</td>\n",
       "      <td>84</td>\n",
       "      <td>104</td>\n",
       "    </tr>\n",
       "    <tr>\n",
       "      <th>158</th>\n",
       "      <td>223</td>\n",
       "      <td>223</td>\n",
       "      <td>222</td>\n",
       "      <td>225</td>\n",
       "      <td>227</td>\n",
       "      <td>230</td>\n",
       "      <td>237</td>\n",
       "      <td>231</td>\n",
       "      <td>223</td>\n",
       "      <td>230</td>\n",
       "      <td>...</td>\n",
       "      <td>170</td>\n",
       "      <td>171</td>\n",
       "      <td>177</td>\n",
       "      <td>179</td>\n",
       "      <td>180</td>\n",
       "      <td>181</td>\n",
       "      <td>180</td>\n",
       "      <td>180</td>\n",
       "      <td>178</td>\n",
       "      <td>177</td>\n",
       "    </tr>\n",
       "    <tr>\n",
       "      <th>159</th>\n",
       "      <td>101</td>\n",
       "      <td>102</td>\n",
       "      <td>106</td>\n",
       "      <td>110</td>\n",
       "      <td>113</td>\n",
       "      <td>113</td>\n",
       "      <td>113</td>\n",
       "      <td>111</td>\n",
       "      <td>110</td>\n",
       "      <td>109</td>\n",
       "      <td>...</td>\n",
       "      <td>110</td>\n",
       "      <td>104</td>\n",
       "      <td>121</td>\n",
       "      <td>95</td>\n",
       "      <td>68</td>\n",
       "      <td>76</td>\n",
       "      <td>108</td>\n",
       "      <td>129</td>\n",
       "      <td>120</td>\n",
       "      <td>113</td>\n",
       "    </tr>\n",
       "  </tbody>\n",
       "</table>\n",
       "<p>160 rows × 4096 columns</p>\n",
       "</div>"
      ],
      "text/plain": [
       "       0    1    2    3    4    5    6    7    8    9  ...  4086  4087  4088  \\\n",
       "0    224  224  224  218  213  213  213  204  224  213  ...   130   123   113   \n",
       "1    131  124  131  134  173  242  242  206   96   96  ...   104    96    89   \n",
       "2    127  136  136  136  136  127  136  127  115  104  ...   136   144   161   \n",
       "3    126  125  125  107   94   94  107   94   93   94  ...   125   126   136   \n",
       "4    136  122  122  127  122  114  122  114  114  114  ...    94   127   147   \n",
       "..   ...  ...  ...  ...  ...  ...  ...  ...  ...  ...  ...   ...   ...   ...   \n",
       "155   69   69   70   71   71   73   76   78   87   90  ...   124   107   104   \n",
       "156   28   26   31   29   27   27   33   32   27   23  ...   106   110   120   \n",
       "157   60   47   48   70   71   60   50   61   63   63  ...   161   160   149   \n",
       "158  223  223  222  225  227  230  237  231  223  230  ...   170   171   177   \n",
       "159  101  102  106  110  113  113  113  111  110  109  ...   110   104   121   \n",
       "\n",
       "     4089  4090  4091  4092  4093  4094  4095  \n",
       "0     100   100   100   100   106   100   100  \n",
       "1      96   110   124    81    54   104   124  \n",
       "2     161   144   136   115   104    89   104  \n",
       "3     136   107    94    93    93    93    93  \n",
       "4     173   162   147   147   136   114   108  \n",
       "..    ...   ...   ...   ...   ...   ...   ...  \n",
       "155   109   120   110    69    54    59    66  \n",
       "156   124   126   128   128   136   139   144  \n",
       "157   131   128   135   114    78    84   104  \n",
       "158   179   180   181   180   180   178   177  \n",
       "159    95    68    76   108   129   120   113  \n",
       "\n",
       "[160 rows x 4096 columns]"
      ]
     },
     "execution_count": 32,
     "metadata": {},
     "output_type": "execute_result"
    }
   ],
   "source": [
    "# your code here\n",
    "animals=pd.concat([dogs,cats], ignore_index=True)\n",
    "animals"
   ]
  },
  {
   "cell_type": "markdown",
   "metadata": {},
   "source": [
    "Next, we would like to standardize our data. \n",
    "\n",
    "In order to do that, we will need to use the `StandardScaler` class from `sklearn.preprocessing` module.\n",
    "\n",
    "Remember, we need to standardize the information for each pixel (which are the dimensions of our dataset) so that they can be compared in the PCA algorithm. Otherwise, the result would be dominated by the variable with the highest scale. \n"
   ]
  },
  {
   "cell_type": "code",
   "execution_count": 33,
   "metadata": {
    "ExecuteTime": {
     "end_time": "2020-12-02T19:40:15.562280Z",
     "start_time": "2020-12-02T19:40:14.656898Z"
    }
   },
   "outputs": [],
   "source": [
    "# your code here\n",
    "from sklearn.preprocessing import StandardScaler"
   ]
  },
  {
   "cell_type": "code",
   "execution_count": 34,
   "metadata": {
    "ExecuteTime": {
     "end_time": "2020-12-02T19:41:48.365133Z",
     "start_time": "2020-12-02T19:41:48.172953Z"
    }
   },
   "outputs": [],
   "source": [
    "scaler=StandardScaler()\n",
    "animals_std=scaler.fit_transform(animals)"
   ]
  },
  {
   "cell_type": "code",
   "execution_count": 39,
   "metadata": {
    "ExecuteTime": {
     "end_time": "2020-12-02T19:44:46.068482Z",
     "start_time": "2020-12-02T19:44:46.054824Z"
    }
   },
   "outputs": [
    {
     "data": {
      "text/plain": [
       "array([[ 1.62729443,  1.71734864,  1.69367206, ..., -0.07659167,\n",
       "        -0.12937266, -0.12602345],\n",
       "       [ 0.38158288,  0.32579702,  0.41270021, ..., -0.88119103,\n",
       "        -0.0700189 ,  0.22212766],\n",
       "       [ 0.32800389,  0.49278322,  0.48156966, ..., -0.1075378 ,\n",
       "        -0.29259552, -0.06799826],\n",
       "       ...,\n",
       "       [-0.56944422, -0.74569772, -0.73053274, ..., -0.50983748,\n",
       "        -0.36678772, -0.06799826],\n",
       "       [ 1.61389968,  1.70343313,  1.66612428, ...,  1.06841511,\n",
       "         1.02802577,  0.99096135],\n",
       "       [-0.02025956,  0.01965567,  0.06835293, ...,  0.27928882,\n",
       "         0.16739617,  0.0625584 ]])"
      ]
     },
     "execution_count": 39,
     "metadata": {},
     "output_type": "execute_result"
    }
   ],
   "source": [
    "animals_std"
   ]
  },
  {
   "cell_type": "markdown",
   "metadata": {},
   "source": [
    "## Bonus\n",
    "\n",
    "After standardizing your data, try visualizing your image again. Does the standardization changes your original image?"
   ]
  },
  {
   "cell_type": "code",
   "execution_count": 38,
   "metadata": {
    "ExecuteTime": {
     "end_time": "2020-12-02T19:44:38.491509Z",
     "start_time": "2020-12-02T19:44:38.126909Z"
    }
   },
   "outputs": [
    {
     "data": {
      "text/plain": [
       "<matplotlib.image.AxesImage at 0x1241fbb20>"
      ]
     },
     "execution_count": 38,
     "metadata": {},
     "output_type": "execute_result"
    },
    {
     "data": {
      "image/png": "[encoded data removed]",
      "text/plain": [
       "<Figure size 432x288 with 1 Axes>"
      ]
     },
     "metadata": {
      "needs_background": "light"
     },
     "output_type": "display_data"
    }
   ],
   "source": [
    "# your code here\n",
    "plt.imshow(animals_std[0].reshape(64, 64), cmap=\"copper\")"
   ]
  },
  {
   "cell_type": "markdown",
   "metadata": {},
   "source": [
    "# Challenge 2 - Using PCA\n",
    "\n",
    "Now that we have created a standardized matrix of cats and dogs, we'll find the two most important components in the data. \n",
    "\n",
    "Load the PCA from sklearn (https://scikit-learn.org/stable/modules/generated/sklearn.decomposition.PCA.html) and apply the function to our standarized data. Create a PCA model with two components."
   ]
  },
  {
   "cell_type": "code",
   "execution_count": 41,
   "metadata": {
    "ExecuteTime": {
     "end_time": "2020-12-02T19:51:59.532041Z",
     "start_time": "2020-12-02T19:51:59.367428Z"
    }
   },
   "outputs": [
    {
     "data": {
      "text/plain": [
       "array([[ 4.55449814e+01, -2.52389396e+01],\n",
       "       [-2.48328587e+01, -4.15716862e+01],\n",
       "       [ 2.74692450e+01,  1.19581866e+01],\n",
       "       [-2.25998546e+01, -9.83936145e+00],\n",
       "       [ 1.93603564e+01, -1.88120256e+01],\n",
       "       [-4.74468664e+00,  5.84374955e+00],\n",
       "       [-2.06260501e+01, -2.06659205e+01],\n",
       "       [-1.29788491e+01, -2.02951049e+01],\n",
       "       [ 1.50642297e+01, -9.17913029e+00],\n",
       "       [ 2.00937359e+01, -3.18338073e+01],\n",
       "       [-4.07943696e-01, -2.65321355e+00],\n",
       "       [ 3.20386915e+01, -4.98633255e+00],\n",
       "       [-3.36053890e+01, -1.17071941e+01],\n",
       "       [ 4.22857896e+01,  7.38833495e+00],\n",
       "       [ 5.59330677e+00, -2.05419471e+01],\n",
       "       [ 1.20688731e+01, -1.10092742e+01],\n",
       "       [ 1.77230667e+01, -1.11085928e+01],\n",
       "       [ 1.47700211e+00, -3.37994263e+01],\n",
       "       [ 2.00562708e+01, -8.98499970e+00],\n",
       "       [ 2.60924376e+01, -1.48999556e+01],\n",
       "       [ 2.09878872e+01,  4.65157505e+00],\n",
       "       [-9.44574138e+00, -7.50717020e+00],\n",
       "       [ 4.20501316e+01, -6.94592840e-01],\n",
       "       [-4.51769749e+01, -2.52214590e+01],\n",
       "       [-2.58030776e+01, -3.47407885e+01],\n",
       "       [-4.17589606e+01, -1.18016315e+01],\n",
       "       [ 4.16831369e+01,  8.45781148e+00],\n",
       "       [ 8.09341824e+00, -2.78419966e-02],\n",
       "       [ 1.18571978e+01, -1.96098680e+01],\n",
       "       [-2.38766123e+01, -1.45359642e+01],\n",
       "       [-6.80805729e+00, -7.77316811e+00],\n",
       "       [-3.26630246e+01, -1.32496286e+01],\n",
       "       [ 2.41970204e+00, -3.04898417e+01],\n",
       "       [-5.57199837e+01, -2.70190769e+01],\n",
       "       [-3.88382036e+01, -2.26125191e+00],\n",
       "       [-1.88022890e+01, -1.83870886e+01],\n",
       "       [ 1.94022697e+01,  1.05983117e+01],\n",
       "       [-4.07353489e+01, -1.11855778e+01],\n",
       "       [-5.34214805e+01, -6.18164702e+00],\n",
       "       [-2.02565644e+01, -3.38638941e+01],\n",
       "       [-1.47710894e+01, -2.03887427e+01],\n",
       "       [ 2.15738737e+01,  1.48479755e+00],\n",
       "       [-6.16642615e+01, -6.92920670e+00],\n",
       "       [-3.46099485e+01, -2.04911836e+01],\n",
       "       [-1.69707147e+01,  3.61589076e+00],\n",
       "       [-8.49060180e+00, -1.94840038e+01],\n",
       "       [-5.40501871e+00, -3.00119282e+01],\n",
       "       [-3.43065826e+01, -1.06191536e+01],\n",
       "       [ 1.08835958e+01, -1.11539368e+01],\n",
       "       [-4.79221794e+01,  2.38753627e+00],\n",
       "       [ 7.16522712e+00, -2.32554649e+01],\n",
       "       [ 6.80187482e+01, -1.39848809e+01],\n",
       "       [ 6.59248277e+01,  9.36353920e+00],\n",
       "       [ 3.71766661e+00,  1.68701790e+01],\n",
       "       [-7.39124230e+00,  1.39425053e+01],\n",
       "       [ 1.98091877e+01,  2.05814119e+01],\n",
       "       [ 1.64148200e+01, -1.72494922e+01],\n",
       "       [ 3.90420737e+00, -8.23684052e+00],\n",
       "       [-7.91964851e+00,  1.04854148e+01],\n",
       "       [ 6.87527463e+00, -1.27949478e+00],\n",
       "       [-1.29811046e+01, -1.12601247e+01],\n",
       "       [ 1.16714780e+01, -1.69463927e+01],\n",
       "       [-2.71142880e+00, -2.83606288e+01],\n",
       "       [ 3.41719358e+01,  2.12993150e+01],\n",
       "       [-6.06165087e+01,  1.38068714e-02],\n",
       "       [-1.12311472e+01, -2.50461769e+01],\n",
       "       [ 3.85956398e+01,  2.62671044e+00],\n",
       "       [-5.53081938e+00,  3.43986395e+01],\n",
       "       [-1.85537095e+01,  1.11758149e+00],\n",
       "       [ 4.53223365e-01, -2.37046258e+01],\n",
       "       [-3.47121723e+01,  2.78683421e+00],\n",
       "       [-3.18957089e+01, -6.30267304e+00],\n",
       "       [ 2.69830461e+00, -2.92934181e+01],\n",
       "       [-4.78385678e+01,  3.66654230e+00],\n",
       "       [ 2.28983086e+01, -7.18764521e-01],\n",
       "       [ 1.54539973e+00, -2.75389311e+01],\n",
       "       [ 1.43333820e+01, -2.79821608e+01],\n",
       "       [-2.47792406e+00,  4.50789267e+00],\n",
       "       [-3.16194286e+01, -5.73763975e+00],\n",
       "       [ 3.31035023e+01, -3.16377848e+01],\n",
       "       [ 6.52548943e+01,  2.97016478e+01],\n",
       "       [-8.34652773e-01,  3.87785831e+01],\n",
       "       [ 6.56103083e+01, -5.27871289e+01],\n",
       "       [ 4.88917964e+01, -1.71002985e+01],\n",
       "       [ 5.05344878e+01,  3.82485638e+01],\n",
       "       [-9.10950497e-01,  2.53107488e+01],\n",
       "       [ 2.67613445e+01,  3.87952112e+01],\n",
       "       [ 2.17168454e+01,  9.86117064e+00],\n",
       "       [-1.36696542e+01,  4.13242762e+01],\n",
       "       [-1.93446365e+01,  2.41138798e+01],\n",
       "       [-1.02984546e+01, -8.49835737e-01],\n",
       "       [-4.35232289e+01, -1.15878407e+01],\n",
       "       [-3.07031753e+01,  4.64827442e+01],\n",
       "       [ 3.23262813e+01,  3.31604486e+01],\n",
       "       [ 7.98537190e+00, -1.88340349e+01],\n",
       "       [ 3.34022667e+00,  1.94269279e+01],\n",
       "       [ 9.89283375e+00, -1.78926025e+01],\n",
       "       [ 2.76965026e+01,  3.27709879e+01],\n",
       "       [ 4.14195791e+01, -2.44113493e+01],\n",
       "       [-4.38032467e+01,  3.32806849e+01],\n",
       "       [ 7.02188041e+01,  6.98871442e+00],\n",
       "       [-2.28977933e+01,  3.56357008e+01],\n",
       "       [-4.24639053e+01,  2.08220797e+01],\n",
       "       [-5.92480015e+01,  1.24809180e+01],\n",
       "       [ 7.03243028e+01, -3.87340014e+01],\n",
       "       [-7.96192394e+00,  8.17403343e-01],\n",
       "       [ 3.10898764e+01,  3.28090175e+01],\n",
       "       [-6.20723420e+01,  1.68565281e+01],\n",
       "       [ 1.78105347e+00, -1.38221518e+01],\n",
       "       [ 6.67199635e+00,  1.69211327e+01],\n",
       "       [ 3.03690255e+01,  9.05563203e+00],\n",
       "       [ 6.44798520e+01,  3.73654969e+00],\n",
       "       [ 2.86422936e+01,  2.66857865e+01],\n",
       "       [ 8.43104802e+01, -5.05263176e+01],\n",
       "       [-7.87747892e+00,  3.24784681e+01],\n",
       "       [-5.89322299e+01, -7.39974510e+00],\n",
       "       [ 3.65943232e+01, -4.06109130e+01],\n",
       "       [-2.69192775e+01,  3.13985742e+01],\n",
       "       [-2.61188932e+01,  8.34119665e+00],\n",
       "       [ 6.93550966e+01,  2.48364611e+01],\n",
       "       [-1.17720450e+01,  5.24285860e+00],\n",
       "       [ 5.17879633e+01,  4.76857790e+01],\n",
       "       [-3.70889565e+01,  3.96302644e+01],\n",
       "       [-5.54627820e+01,  1.00027492e+01],\n",
       "       [-7.15593930e+01,  4.28777925e+01],\n",
       "       [-5.48242360e+01, -2.37532668e+01],\n",
       "       [-5.83219104e+01, -2.57482936e+01],\n",
       "       [-2.20906495e+01, -3.25172706e+01],\n",
       "       [-1.57682697e+01,  4.80486919e+01],\n",
       "       [ 2.06420992e+01,  5.80581174e+00],\n",
       "       [ 5.13505932e+01,  3.71342386e+01],\n",
       "       [ 8.47441410e+00,  1.00488278e+01],\n",
       "       [ 3.56303289e+00,  4.15353751e+01],\n",
       "       [-2.15207497e+01,  3.40154195e+01],\n",
       "       [-2.47071506e+01, -1.19415450e+01],\n",
       "       [ 1.86179321e+00,  2.81638105e+01],\n",
       "       [ 1.75859885e+01,  5.56905136e+01],\n",
       "       [-7.90413951e+00,  1.14483343e+01],\n",
       "       [ 1.34979992e+01, -1.75573132e+01],\n",
       "       [-4.20364641e+01,  5.33339040e+00],\n",
       "       [-1.03074053e+01, -2.35444905e+00],\n",
       "       [ 2.81309757e+01,  1.85459771e+01],\n",
       "       [ 2.75842859e+01,  3.98654660e+01],\n",
       "       [-2.79618689e+01,  2.83687742e+01],\n",
       "       [-1.09978083e+01, -2.37699963e+01],\n",
       "       [ 2.22051833e+00,  8.39831210e+00],\n",
       "       [ 3.17988981e+01, -4.11899280e+01],\n",
       "       [ 3.23313987e+01,  1.09174407e+01],\n",
       "       [-4.05853846e+00, -9.76186513e+00],\n",
       "       [-2.30645416e+01, -3.10497918e+01],\n",
       "       [ 6.47071678e+00, -8.20261274e+00],\n",
       "       [-5.83244513e+00,  2.63484577e+01],\n",
       "       [ 2.15021386e+01,  1.20313712e+01],\n",
       "       [ 1.04234612e+01, -1.90159457e-01],\n",
       "       [ 1.57983992e+01, -5.51454076e+00],\n",
       "       [-5.40205335e-01,  1.52939307e+01],\n",
       "       [-1.67015977e+01,  2.08983953e+01],\n",
       "       [-1.87184273e+01,  2.08673853e+01],\n",
       "       [-1.43264083e+01, -1.43343841e+01],\n",
       "       [ 1.04550095e+01,  8.36671678e+00]])"
      ]
     },
     "execution_count": 41,
     "metadata": {},
     "output_type": "execute_result"
    }
   ],
   "source": [
    "# Your code here:\n",
    "from sklearn.decomposition import PCA\n",
    "pca=PCA(n_components=2)\n",
    "pca.fit(animals_std)\n",
    "pca.transform(animals_std)"
   ]
  },
  {
   "cell_type": "markdown",
   "metadata": {},
   "source": [
    "After instantiating the `PCA class` and applying it to the standardized data, the results of your principal component analysis will be stored on the PCA object you've created (from the PCA class). "
   ]
  },
  {
   "cell_type": "markdown",
   "metadata": {},
   "source": [
    "# Challenge 3 - Plotting the Data\n",
    "\n",
    "Now that we have reduced our cats and dogs arrays, we can plot the data in a way that the human eye can understand in 2-D. We can look at this plot to see whether there are differences between the cat and dog images. \n",
    "\n",
    "In the cell below, create a pandas dataframe containing the columns `pc1`, and `pc2` with the results of the first and second components of your results, respectively."
   ]
  },
  {
   "cell_type": "code",
   "execution_count": 50,
   "metadata": {
    "ExecuteTime": {
     "end_time": "2020-12-02T19:59:00.603966Z",
     "start_time": "2020-12-02T19:59:00.517017Z"
    }
   },
   "outputs": [
    {
     "data": {
      "text/html": [
       "<div>\n",
       "<style scoped>\n",
       "    .dataframe tbody tr th:only-of-type {\n",
       "        vertical-align: middle;\n",
       "    }\n",
       "\n",
       "    .dataframe tbody tr th {\n",
       "        vertical-align: top;\n",
       "    }\n",
       "\n",
       "    .dataframe thead th {\n",
       "        text-align: right;\n",
       "    }\n",
       "</style>\n",
       "<table border=\"1\" class=\"dataframe\">\n",
       "  <thead>\n",
       "    <tr style=\"text-align: right;\">\n",
       "      <th></th>\n",
       "      <th>pc1</th>\n",
       "      <th>pc2</th>\n",
       "    </tr>\n",
       "  </thead>\n",
       "  <tbody>\n",
       "    <tr>\n",
       "      <th>0</th>\n",
       "      <td>45.544981</td>\n",
       "      <td>-25.238940</td>\n",
       "    </tr>\n",
       "    <tr>\n",
       "      <th>1</th>\n",
       "      <td>-24.832859</td>\n",
       "      <td>-41.571686</td>\n",
       "    </tr>\n",
       "    <tr>\n",
       "      <th>2</th>\n",
       "      <td>27.469245</td>\n",
       "      <td>11.958187</td>\n",
       "    </tr>\n",
       "    <tr>\n",
       "      <th>3</th>\n",
       "      <td>-22.599855</td>\n",
       "      <td>-9.839361</td>\n",
       "    </tr>\n",
       "    <tr>\n",
       "      <th>4</th>\n",
       "      <td>19.360356</td>\n",
       "      <td>-18.812026</td>\n",
       "    </tr>\n",
       "    <tr>\n",
       "      <th>...</th>\n",
       "      <td>...</td>\n",
       "      <td>...</td>\n",
       "    </tr>\n",
       "    <tr>\n",
       "      <th>155</th>\n",
       "      <td>-0.540205</td>\n",
       "      <td>15.293931</td>\n",
       "    </tr>\n",
       "    <tr>\n",
       "      <th>156</th>\n",
       "      <td>-16.701598</td>\n",
       "      <td>20.898395</td>\n",
       "    </tr>\n",
       "    <tr>\n",
       "      <th>157</th>\n",
       "      <td>-18.718427</td>\n",
       "      <td>20.867385</td>\n",
       "    </tr>\n",
       "    <tr>\n",
       "      <th>158</th>\n",
       "      <td>-14.326408</td>\n",
       "      <td>-14.334384</td>\n",
       "    </tr>\n",
       "    <tr>\n",
       "      <th>159</th>\n",
       "      <td>10.455009</td>\n",
       "      <td>8.366717</td>\n",
       "    </tr>\n",
       "  </tbody>\n",
       "</table>\n",
       "<p>160 rows × 2 columns</p>\n",
       "</div>"
      ],
      "text/plain": [
       "           pc1        pc2\n",
       "0    45.544981 -25.238940\n",
       "1   -24.832859 -41.571686\n",
       "2    27.469245  11.958187\n",
       "3   -22.599855  -9.839361\n",
       "4    19.360356 -18.812026\n",
       "..         ...        ...\n",
       "155  -0.540205  15.293931\n",
       "156 -16.701598  20.898395\n",
       "157 -18.718427  20.867385\n",
       "158 -14.326408 -14.334384\n",
       "159  10.455009   8.366717\n",
       "\n",
       "[160 rows x 2 columns]"
      ]
     },
     "execution_count": 50,
     "metadata": {},
     "output_type": "execute_result"
    }
   ],
   "source": [
    "# Your code here:\n",
    "\n",
    "pc1=pca.transform(animals_std)[:, 0]\n",
    "pc2=pca.transform(animals_std)[:, 1]\n",
    "\n",
    "df=pd.DataFrame([pc1, pc2]).T\n",
    "df.columns=[\"pc1\", \"pc2\"]\n",
    "df"
   ]
  },
  {
   "cell_type": "markdown",
   "metadata": {},
   "source": [
    "Create a labels list. This list will be of size 160. The first 80 elements in the list will be the word `blue`, and the last 80 elements will be `red`. This will ensure that all dog observations will be colored in blue and all cats will be colored in red. Name this list `colors`."
   ]
  },
  {
   "cell_type": "code",
   "execution_count": 61,
   "metadata": {
    "ExecuteTime": {
     "end_time": "2020-12-02T20:15:07.466222Z",
     "start_time": "2020-12-02T20:15:07.422711Z"
    }
   },
   "outputs": [
    {
     "name": "stderr",
     "output_type": "stream",
     "text": [
      "<ipython-input-61-f19da4a9a069>:3: DeprecationWarning: The default dtype for empty Series will be 'object' instead of 'float64' in a future version. Specify a dtype explicitly to silence this warning.\n",
      "  df[\"cores\"]=pd.Series()\n"
     ]
    },
    {
     "data": {
      "text/html": [
       "<div>\n",
       "<style scoped>\n",
       "    .dataframe tbody tr th:only-of-type {\n",
       "        vertical-align: middle;\n",
       "    }\n",
       "\n",
       "    .dataframe tbody tr th {\n",
       "        vertical-align: top;\n",
       "    }\n",
       "\n",
       "    .dataframe thead th {\n",
       "        text-align: right;\n",
       "    }\n",
       "</style>\n",
       "<table border=\"1\" class=\"dataframe\">\n",
       "  <thead>\n",
       "    <tr style=\"text-align: right;\">\n",
       "      <th></th>\n",
       "      <th>pc1</th>\n",
       "      <th>pc2</th>\n",
       "      <th>cores</th>\n",
       "    </tr>\n",
       "  </thead>\n",
       "  <tbody>\n",
       "    <tr>\n",
       "      <th>0</th>\n",
       "      <td>45.544981</td>\n",
       "      <td>-25.238940</td>\n",
       "      <td>blue</td>\n",
       "    </tr>\n",
       "    <tr>\n",
       "      <th>1</th>\n",
       "      <td>-24.832859</td>\n",
       "      <td>-41.571686</td>\n",
       "      <td>blue</td>\n",
       "    </tr>\n",
       "    <tr>\n",
       "      <th>2</th>\n",
       "      <td>27.469245</td>\n",
       "      <td>11.958187</td>\n",
       "      <td>blue</td>\n",
       "    </tr>\n",
       "    <tr>\n",
       "      <th>3</th>\n",
       "      <td>-22.599855</td>\n",
       "      <td>-9.839361</td>\n",
       "      <td>blue</td>\n",
       "    </tr>\n",
       "    <tr>\n",
       "      <th>4</th>\n",
       "      <td>19.360356</td>\n",
       "      <td>-18.812026</td>\n",
       "      <td>blue</td>\n",
       "    </tr>\n",
       "    <tr>\n",
       "      <th>...</th>\n",
       "      <td>...</td>\n",
       "      <td>...</td>\n",
       "      <td>...</td>\n",
       "    </tr>\n",
       "    <tr>\n",
       "      <th>155</th>\n",
       "      <td>-0.540205</td>\n",
       "      <td>15.293931</td>\n",
       "      <td>red</td>\n",
       "    </tr>\n",
       "    <tr>\n",
       "      <th>156</th>\n",
       "      <td>-16.701598</td>\n",
       "      <td>20.898395</td>\n",
       "      <td>red</td>\n",
       "    </tr>\n",
       "    <tr>\n",
       "      <th>157</th>\n",
       "      <td>-18.718427</td>\n",
       "      <td>20.867385</td>\n",
       "      <td>red</td>\n",
       "    </tr>\n",
       "    <tr>\n",
       "      <th>158</th>\n",
       "      <td>-14.326408</td>\n",
       "      <td>-14.334384</td>\n",
       "      <td>red</td>\n",
       "    </tr>\n",
       "    <tr>\n",
       "      <th>159</th>\n",
       "      <td>10.455009</td>\n",
       "      <td>8.366717</td>\n",
       "      <td>red</td>\n",
       "    </tr>\n",
       "  </tbody>\n",
       "</table>\n",
       "<p>160 rows × 3 columns</p>\n",
       "</div>"
      ],
      "text/plain": [
       "           pc1        pc2 cores\n",
       "0    45.544981 -25.238940  blue\n",
       "1   -24.832859 -41.571686  blue\n",
       "2    27.469245  11.958187  blue\n",
       "3   -22.599855  -9.839361  blue\n",
       "4    19.360356 -18.812026  blue\n",
       "..         ...        ...   ...\n",
       "155  -0.540205  15.293931   red\n",
       "156 -16.701598  20.898395   red\n",
       "157 -18.718427  20.867385   red\n",
       "158 -14.326408 -14.334384   red\n",
       "159  10.455009   8.366717   red\n",
       "\n",
       "[160 rows x 3 columns]"
      ]
     },
     "execution_count": 61,
     "metadata": {},
     "output_type": "execute_result"
    }
   ],
   "source": [
    "# Your code here:\n",
    "\n",
    "df[\"cores\"]=pd.Series()\n",
    "df.iloc[0:80, 2]=\"blue\"\n",
    "df.iloc[80:160, 2]=\"red\"\n",
    "df"
   ]
  },
  {
   "cell_type": "markdown",
   "metadata": {},
   "source": [
    "Create a scatter plot of `pc1` and `pc2` below. Use the `colors` list above to color the observations by setting `c=colors`."
   ]
  },
  {
   "cell_type": "code",
   "execution_count": 66,
   "metadata": {
    "ExecuteTime": {
     "end_time": "2020-12-02T20:18:45.004023Z",
     "start_time": "2020-12-02T20:18:44.589700Z"
    }
   },
   "outputs": [
    {
     "data": {
      "text/plain": [
       "Text(0, 0.5, 'PC2')"
      ]
     },
     "execution_count": 66,
     "metadata": {},
     "output_type": "execute_result"
    },
    {
     "data": {
      "image/png": "[encoded data removed]",
      "text/plain": [
       "<Figure size 576x288 with 1 Axes>"
      ]
     },
     "metadata": {
      "needs_background": "light"
     },
     "output_type": "display_data"
    }
   ],
   "source": [
    "# Your code here:\n",
    "\n",
    "plt.figure(figsize=(8,4))\n",
    "plt.scatter(\"pc1\", \"pc2\", c=\"cores\", data=df)\n",
    "plt.xlabel(\"PC1\")\n",
    "plt.ylabel(\"PC2\")"
   ]
  },
  {
   "cell_type": "markdown",
   "metadata": {},
   "source": [
    "Do you see a clear separation between cats and dogs? Write your answer below."
   ]
  },
  {
   "cell_type": "code",
   "execution_count": 18,
   "metadata": {},
   "outputs": [],
   "source": [
    "# Your conclusions here:\n"
   ]
  },
  {
   "cell_type": "code",
   "execution_count": null,
   "metadata": {},
   "outputs": [],
   "source": []
  },
  {
   "cell_type": "markdown",
   "metadata": {},
   "source": [
    "# Evaluate the results"
   ]
  },
  {
   "cell_type": "markdown",
   "metadata": {},
   "source": [
    "Calculate how much explained variance do the results of your PCA has lead to.  "
   ]
  },
  {
   "cell_type": "code",
   "execution_count": 70,
   "metadata": {
    "ExecuteTime": {
     "end_time": "2020-12-02T20:22:29.421047Z",
     "start_time": "2020-12-02T20:22:29.414417Z"
    }
   },
   "outputs": [
    {
     "data": {
      "text/plain": [
       "array([0.25550287, 0.38588795])"
      ]
     },
     "execution_count": 70,
     "metadata": {},
     "output_type": "execute_result"
    }
   ],
   "source": [
    "# Your code here:\n",
    "pca.explained_variance_ratio_.cumsum()"
   ]
  },
  {
   "cell_type": "markdown",
   "metadata": {},
   "source": [
    "Explain with your own words what those values represent."
   ]
  },
  {
   "cell_type": "code",
   "execution_count": 114,
   "metadata": {},
   "outputs": [],
   "source": [
    "# your answer here:"
   ]
  },
  {
   "cell_type": "markdown",
   "metadata": {},
   "source": [
    "# Bonus Challenge\n",
    "\n",
    "\n",
    "Recreate your PCA using 20 components. You'll not be able to visualize the results this time, but the idea here is to plot a cumulative sum of your explained variance results. Follow the steps as before (i.e, create a dataframe containing the 20 components and so on)\n",
    "\n",
    "\n",
    "What do you observe? How much of the information is retained after going from 4096 to 20 dimensions?"
   ]
  },
  {
   "cell_type": "code",
   "execution_count": 72,
   "metadata": {
    "ExecuteTime": {
     "end_time": "2020-12-02T20:26:28.419804Z",
     "start_time": "2020-12-02T20:26:28.234127Z"
    }
   },
   "outputs": [
    {
     "data": {
      "text/plain": [
       "array([0.25550287, 0.38588795, 0.46195874, 0.51202166, 0.55534076,\n",
       "       0.58830514, 0.6146901 , 0.63779179, 0.65776718, 0.67508777,\n",
       "       0.69073124, 0.70442708, 0.71620593, 0.72689689, 0.73736764,\n",
       "       0.74725243, 0.75652993, 0.76497132, 0.77307167, 0.78070565])"
      ]
     },
     "execution_count": 72,
     "metadata": {},
     "output_type": "execute_result"
    }
   ],
   "source": [
    "pca=PCA(n_components=20)\n",
    "pca.fit(animals_std)\n",
    "pca.transform(animals_std)\n",
    "\n",
    "pca.explained_variance_ratio_.cumsum()"
   ]
  },
  {
   "cell_type": "markdown",
   "metadata": {},
   "source": [
    "# Bonus Challenge 2"
   ]
  },
  {
   "cell_type": "markdown",
   "metadata": {},
   "source": [
    "Use the `.inverse_transform()` method to the dataframe with the 20 components and store your results. The inverse transform takes the results of the PCA (the reduced dimension space) and take it back to the original space (with 4096 dimensions). This will be helpful for you to visualize how the PCA affected the original data."
   ]
  },
  {
   "cell_type": "code",
   "execution_count": 80,
   "metadata": {
    "ExecuteTime": {
     "end_time": "2020-12-02T20:38:08.189239Z",
     "start_time": "2020-12-02T20:38:07.912600Z"
    }
   },
   "outputs": [
    {
     "data": {
      "text/html": [
       "<div>\n",
       "<style scoped>\n",
       "    .dataframe tbody tr th:only-of-type {\n",
       "        vertical-align: middle;\n",
       "    }\n",
       "\n",
       "    .dataframe tbody tr th {\n",
       "        vertical-align: top;\n",
       "    }\n",
       "\n",
       "    .dataframe thead th {\n",
       "        text-align: right;\n",
       "    }\n",
       "</style>\n",
       "<table border=\"1\" class=\"dataframe\">\n",
       "  <thead>\n",
       "    <tr style=\"text-align: right;\">\n",
       "      <th></th>\n",
       "      <th>pc1</th>\n",
       "      <th>pc2</th>\n",
       "      <th>pc3</th>\n",
       "      <th>pc4</th>\n",
       "      <th>pc5</th>\n",
       "      <th>pc6</th>\n",
       "      <th>pc7</th>\n",
       "      <th>pc8</th>\n",
       "      <th>pc9</th>\n",
       "      <th>pc10</th>\n",
       "      <th>pc11</th>\n",
       "      <th>pc12</th>\n",
       "      <th>pc13</th>\n",
       "      <th>pc14</th>\n",
       "      <th>pc15</th>\n",
       "      <th>pc16</th>\n",
       "      <th>pc17</th>\n",
       "      <th>pc18</th>\n",
       "      <th>pc19</th>\n",
       "      <th>pc20</th>\n",
       "    </tr>\n",
       "  </thead>\n",
       "  <tbody>\n",
       "    <tr>\n",
       "      <th>0</th>\n",
       "      <td>45.544981</td>\n",
       "      <td>-25.238939</td>\n",
       "      <td>-11.781186</td>\n",
       "      <td>12.423677</td>\n",
       "      <td>15.065853</td>\n",
       "      <td>4.166573</td>\n",
       "      <td>7.308683</td>\n",
       "      <td>-10.369465</td>\n",
       "      <td>15.357154</td>\n",
       "      <td>1.772281</td>\n",
       "      <td>-11.268470</td>\n",
       "      <td>-6.404767</td>\n",
       "      <td>5.035896</td>\n",
       "      <td>10.406103</td>\n",
       "      <td>-2.854508</td>\n",
       "      <td>0.307069</td>\n",
       "      <td>0.944225</td>\n",
       "      <td>3.046517</td>\n",
       "      <td>-1.116159</td>\n",
       "      <td>0.536106</td>\n",
       "    </tr>\n",
       "    <tr>\n",
       "      <th>1</th>\n",
       "      <td>-24.832859</td>\n",
       "      <td>-41.571687</td>\n",
       "      <td>-1.973115</td>\n",
       "      <td>7.216363</td>\n",
       "      <td>-2.162593</td>\n",
       "      <td>-16.066829</td>\n",
       "      <td>-13.707187</td>\n",
       "      <td>-26.484909</td>\n",
       "      <td>-0.726499</td>\n",
       "      <td>-10.872541</td>\n",
       "      <td>2.802328</td>\n",
       "      <td>-14.562829</td>\n",
       "      <td>-15.618161</td>\n",
       "      <td>-5.472770</td>\n",
       "      <td>10.785642</td>\n",
       "      <td>3.835567</td>\n",
       "      <td>0.810938</td>\n",
       "      <td>3.932639</td>\n",
       "      <td>1.809039</td>\n",
       "      <td>-4.789359</td>\n",
       "    </tr>\n",
       "    <tr>\n",
       "      <th>2</th>\n",
       "      <td>27.469245</td>\n",
       "      <td>11.958186</td>\n",
       "      <td>13.893630</td>\n",
       "      <td>5.359895</td>\n",
       "      <td>-1.393182</td>\n",
       "      <td>-3.091733</td>\n",
       "      <td>7.592717</td>\n",
       "      <td>-4.703293</td>\n",
       "      <td>6.208220</td>\n",
       "      <td>-3.910323</td>\n",
       "      <td>-11.947313</td>\n",
       "      <td>-1.408576</td>\n",
       "      <td>-1.534287</td>\n",
       "      <td>-5.492255</td>\n",
       "      <td>4.208358</td>\n",
       "      <td>2.993348</td>\n",
       "      <td>6.745877</td>\n",
       "      <td>4.598242</td>\n",
       "      <td>0.990550</td>\n",
       "      <td>-1.463805</td>\n",
       "    </tr>\n",
       "    <tr>\n",
       "      <th>3</th>\n",
       "      <td>-22.599855</td>\n",
       "      <td>-9.839363</td>\n",
       "      <td>8.600170</td>\n",
       "      <td>-1.931392</td>\n",
       "      <td>-2.039567</td>\n",
       "      <td>1.336076</td>\n",
       "      <td>-2.718199</td>\n",
       "      <td>0.653002</td>\n",
       "      <td>3.872733</td>\n",
       "      <td>11.665187</td>\n",
       "      <td>4.394734</td>\n",
       "      <td>-8.432504</td>\n",
       "      <td>2.918227</td>\n",
       "      <td>1.700888</td>\n",
       "      <td>8.243526</td>\n",
       "      <td>-5.050723</td>\n",
       "      <td>-13.179609</td>\n",
       "      <td>1.780390</td>\n",
       "      <td>5.765115</td>\n",
       "      <td>-0.806657</td>\n",
       "    </tr>\n",
       "    <tr>\n",
       "      <th>4</th>\n",
       "      <td>19.360356</td>\n",
       "      <td>-18.812026</td>\n",
       "      <td>-11.399252</td>\n",
       "      <td>-18.441556</td>\n",
       "      <td>-1.340089</td>\n",
       "      <td>4.315345</td>\n",
       "      <td>1.681447</td>\n",
       "      <td>-1.444659</td>\n",
       "      <td>16.135684</td>\n",
       "      <td>-8.646971</td>\n",
       "      <td>4.342630</td>\n",
       "      <td>4.834511</td>\n",
       "      <td>0.465416</td>\n",
       "      <td>6.793252</td>\n",
       "      <td>-7.040223</td>\n",
       "      <td>3.369934</td>\n",
       "      <td>-1.448264</td>\n",
       "      <td>10.651120</td>\n",
       "      <td>0.367233</td>\n",
       "      <td>1.956802</td>\n",
       "    </tr>\n",
       "    <tr>\n",
       "      <th>...</th>\n",
       "      <td>...</td>\n",
       "      <td>...</td>\n",
       "      <td>...</td>\n",
       "      <td>...</td>\n",
       "      <td>...</td>\n",
       "      <td>...</td>\n",
       "      <td>...</td>\n",
       "      <td>...</td>\n",
       "      <td>...</td>\n",
       "      <td>...</td>\n",
       "      <td>...</td>\n",
       "      <td>...</td>\n",
       "      <td>...</td>\n",
       "      <td>...</td>\n",
       "      <td>...</td>\n",
       "      <td>...</td>\n",
       "      <td>...</td>\n",
       "      <td>...</td>\n",
       "      <td>...</td>\n",
       "      <td>...</td>\n",
       "    </tr>\n",
       "    <tr>\n",
       "      <th>155</th>\n",
       "      <td>-0.540205</td>\n",
       "      <td>15.293931</td>\n",
       "      <td>9.526272</td>\n",
       "      <td>-14.247278</td>\n",
       "      <td>7.560264</td>\n",
       "      <td>5.330210</td>\n",
       "      <td>14.467570</td>\n",
       "      <td>-0.686945</td>\n",
       "      <td>5.752953</td>\n",
       "      <td>2.893872</td>\n",
       "      <td>-1.647655</td>\n",
       "      <td>-1.853625</td>\n",
       "      <td>-2.258093</td>\n",
       "      <td>-3.765812</td>\n",
       "      <td>2.047669</td>\n",
       "      <td>3.176065</td>\n",
       "      <td>-2.954032</td>\n",
       "      <td>-1.363376</td>\n",
       "      <td>1.552401</td>\n",
       "      <td>0.881602</td>\n",
       "    </tr>\n",
       "    <tr>\n",
       "      <th>156</th>\n",
       "      <td>-16.701598</td>\n",
       "      <td>20.898394</td>\n",
       "      <td>13.354442</td>\n",
       "      <td>-1.922217</td>\n",
       "      <td>4.137525</td>\n",
       "      <td>12.649267</td>\n",
       "      <td>18.091967</td>\n",
       "      <td>-9.267554</td>\n",
       "      <td>10.503476</td>\n",
       "      <td>11.742946</td>\n",
       "      <td>-1.021477</td>\n",
       "      <td>1.697752</td>\n",
       "      <td>-1.722951</td>\n",
       "      <td>1.881331</td>\n",
       "      <td>-4.882062</td>\n",
       "      <td>-4.478255</td>\n",
       "      <td>2.193697</td>\n",
       "      <td>-8.915943</td>\n",
       "      <td>2.059278</td>\n",
       "      <td>1.973220</td>\n",
       "    </tr>\n",
       "    <tr>\n",
       "      <th>157</th>\n",
       "      <td>-18.718427</td>\n",
       "      <td>20.867384</td>\n",
       "      <td>0.641778</td>\n",
       "      <td>0.462637</td>\n",
       "      <td>-6.693617</td>\n",
       "      <td>8.873073</td>\n",
       "      <td>-6.227746</td>\n",
       "      <td>-1.114978</td>\n",
       "      <td>1.102336</td>\n",
       "      <td>2.673988</td>\n",
       "      <td>0.618223</td>\n",
       "      <td>1.740317</td>\n",
       "      <td>3.572340</td>\n",
       "      <td>2.604759</td>\n",
       "      <td>6.649714</td>\n",
       "      <td>1.766907</td>\n",
       "      <td>0.173313</td>\n",
       "      <td>2.212541</td>\n",
       "      <td>-1.963986</td>\n",
       "      <td>-1.015205</td>\n",
       "    </tr>\n",
       "    <tr>\n",
       "      <th>158</th>\n",
       "      <td>-14.326408</td>\n",
       "      <td>-14.334385</td>\n",
       "      <td>-12.786786</td>\n",
       "      <td>-8.715232</td>\n",
       "      <td>2.766384</td>\n",
       "      <td>-0.696014</td>\n",
       "      <td>23.502438</td>\n",
       "      <td>14.868373</td>\n",
       "      <td>-0.945752</td>\n",
       "      <td>-21.245894</td>\n",
       "      <td>-11.513173</td>\n",
       "      <td>10.622641</td>\n",
       "      <td>9.266700</td>\n",
       "      <td>-3.880889</td>\n",
       "      <td>6.062847</td>\n",
       "      <td>1.691276</td>\n",
       "      <td>-0.540019</td>\n",
       "      <td>-2.776465</td>\n",
       "      <td>5.062989</td>\n",
       "      <td>-4.728135</td>\n",
       "    </tr>\n",
       "    <tr>\n",
       "      <th>159</th>\n",
       "      <td>10.455010</td>\n",
       "      <td>8.366715</td>\n",
       "      <td>-10.040362</td>\n",
       "      <td>-15.303863</td>\n",
       "      <td>3.246400</td>\n",
       "      <td>8.010396</td>\n",
       "      <td>-5.848341</td>\n",
       "      <td>3.850434</td>\n",
       "      <td>-2.629113</td>\n",
       "      <td>-1.723889</td>\n",
       "      <td>-1.978663</td>\n",
       "      <td>6.591758</td>\n",
       "      <td>1.239334</td>\n",
       "      <td>2.493270</td>\n",
       "      <td>0.329076</td>\n",
       "      <td>-1.558253</td>\n",
       "      <td>-4.392297</td>\n",
       "      <td>-6.309118</td>\n",
       "      <td>-2.373139</td>\n",
       "      <td>-2.558707</td>\n",
       "    </tr>\n",
       "  </tbody>\n",
       "</table>\n",
       "<p>160 rows × 20 columns</p>\n",
       "</div>"
      ],
      "text/plain": [
       "           pc1        pc2        pc3        pc4        pc5        pc6  \\\n",
       "0    45.544981 -25.238939 -11.781186  12.423677  15.065853   4.166573   \n",
       "1   -24.832859 -41.571687  -1.973115   7.216363  -2.162593 -16.066829   \n",
       "2    27.469245  11.958186  13.893630   5.359895  -1.393182  -3.091733   \n",
       "3   -22.599855  -9.839363   8.600170  -1.931392  -2.039567   1.336076   \n",
       "4    19.360356 -18.812026 -11.399252 -18.441556  -1.340089   4.315345   \n",
       "..         ...        ...        ...        ...        ...        ...   \n",
       "155  -0.540205  15.293931   9.526272 -14.247278   7.560264   5.330210   \n",
       "156 -16.701598  20.898394  13.354442  -1.922217   4.137525  12.649267   \n",
       "157 -18.718427  20.867384   0.641778   0.462637  -6.693617   8.873073   \n",
       "158 -14.326408 -14.334385 -12.786786  -8.715232   2.766384  -0.696014   \n",
       "159  10.455010   8.366715 -10.040362 -15.303863   3.246400   8.010396   \n",
       "\n",
       "           pc7        pc8        pc9       pc10       pc11       pc12  \\\n",
       "0     7.308683 -10.369465  15.357154   1.772281 -11.268470  -6.404767   \n",
       "1   -13.707187 -26.484909  -0.726499 -10.872541   2.802328 -14.562829   \n",
       "2     7.592717  -4.703293   6.208220  -3.910323 -11.947313  -1.408576   \n",
       "3    -2.718199   0.653002   3.872733  11.665187   4.394734  -8.432504   \n",
       "4     1.681447  -1.444659  16.135684  -8.646971   4.342630   4.834511   \n",
       "..         ...        ...        ...        ...        ...        ...   \n",
       "155  14.467570  -0.686945   5.752953   2.893872  -1.647655  -1.853625   \n",
       "156  18.091967  -9.267554  10.503476  11.742946  -1.021477   1.697752   \n",
       "157  -6.227746  -1.114978   1.102336   2.673988   0.618223   1.740317   \n",
       "158  23.502438  14.868373  -0.945752 -21.245894 -11.513173  10.622641   \n",
       "159  -5.848341   3.850434  -2.629113  -1.723889  -1.978663   6.591758   \n",
       "\n",
       "          pc13       pc14       pc15      pc16       pc17       pc18  \\\n",
       "0     5.035896  10.406103  -2.854508  0.307069   0.944225   3.046517   \n",
       "1   -15.618161  -5.472770  10.785642  3.835567   0.810938   3.932639   \n",
       "2    -1.534287  -5.492255   4.208358  2.993348   6.745877   4.598242   \n",
       "3     2.918227   1.700888   8.243526 -5.050723 -13.179609   1.780390   \n",
       "4     0.465416   6.793252  -7.040223  3.369934  -1.448264  10.651120   \n",
       "..         ...        ...        ...       ...        ...        ...   \n",
       "155  -2.258093  -3.765812   2.047669  3.176065  -2.954032  -1.363376   \n",
       "156  -1.722951   1.881331  -4.882062 -4.478255   2.193697  -8.915943   \n",
       "157   3.572340   2.604759   6.649714  1.766907   0.173313   2.212541   \n",
       "158   9.266700  -3.880889   6.062847  1.691276  -0.540019  -2.776465   \n",
       "159   1.239334   2.493270   0.329076 -1.558253  -4.392297  -6.309118   \n",
       "\n",
       "         pc19      pc20  \n",
       "0   -1.116159  0.536106  \n",
       "1    1.809039 -4.789359  \n",
       "2    0.990550 -1.463805  \n",
       "3    5.765115 -0.806657  \n",
       "4    0.367233  1.956802  \n",
       "..        ...       ...  \n",
       "155  1.552401  0.881602  \n",
       "156  2.059278  1.973220  \n",
       "157 -1.963986 -1.015205  \n",
       "158  5.062989 -4.728135  \n",
       "159 -2.373139 -2.558707  \n",
       "\n",
       "[160 rows x 20 columns]"
      ]
     },
     "execution_count": 80,
     "metadata": {},
     "output_type": "execute_result"
    }
   ],
   "source": [
    "lista_pca=[pca.transform(animals_std)[:, i] for i in range(20)]\n",
    "df1=pd.DataFrame(lista_pca).T\n",
    "df1.columns=[f\"pc{i+1}\" for i in range(20)]\n",
    "df1"
   ]
  },
  {
   "cell_type": "code",
   "execution_count": 81,
   "metadata": {
    "ExecuteTime": {
     "end_time": "2020-12-02T20:43:00.054281Z",
     "start_time": "2020-12-02T20:43:00.025343Z"
    }
   },
   "outputs": [],
   "source": [
    "df_novo=pca.inverse_transform(df1)"
   ]
  },
  {
   "cell_type": "markdown",
   "metadata": {},
   "source": [
    "Use the `imshow` to plot the first row of the `inverse_transform` of the results. Compare the results with the original image."
   ]
  },
  {
   "cell_type": "code",
   "execution_count": 84,
   "metadata": {
    "ExecuteTime": {
     "end_time": "2020-12-02T20:44:14.516369Z",
     "start_time": "2020-12-02T20:44:13.942087Z"
    }
   },
   "outputs": [
    {
     "data": {
      "text/plain": [
       "<matplotlib.image.AxesImage at 0x12852a340>"
      ]
     },
     "execution_count": 84,
     "metadata": {},
     "output_type": "execute_result"
    },
    {
     "data": {
      "image/png": "[encoded data removed]",
      "text/plain": [
       "<Figure size 432x288 with 1 Axes>"
      ]
     },
     "metadata": {
      "needs_background": "light"
     },
     "output_type": "display_data"
    }
   ],
   "source": [
    "# your code\n",
    "plt.imshow(df_novo[80].reshape(64, 64), cmap=\"copper\")"
   ]
  },
  {
   "cell_type": "markdown",
   "metadata": {},
   "source": [
    "Change the value of the components above to have a feeling of the information retained (try 100 components)."
   ]
  },
  {
   "cell_type": "code",
   "execution_count": 86,
   "metadata": {
    "ExecuteTime": {
     "end_time": "2020-12-02T20:47:00.292639Z",
     "start_time": "2020-12-02T20:46:59.711397Z"
    }
   },
   "outputs": [
    {
     "data": {
      "text/plain": [
       "array([0.25550287, 0.38588795, 0.46195874, 0.51202166, 0.55534076,\n",
       "       0.58830515, 0.6146901 , 0.6377918 , 0.6577672 , 0.67508786,\n",
       "       0.69073143, 0.70442745, 0.71620783, 0.72690135, 0.73737608,\n",
       "       0.74726255, 0.75655568, 0.76500727, 0.77314323, 0.78083486,\n",
       "       0.78783232, 0.79456688, 0.80085133, 0.80669453, 0.81244857,\n",
       "       0.81784761, 0.82314762, 0.82807812, 0.83290958, 0.83760295,\n",
       "       0.841962  , 0.84629877, 0.85053806, 0.85468439, 0.85844083,\n",
       "       0.86198517, 0.86545906, 0.8688837 , 0.87208676, 0.8752525 ,\n",
       "       0.87832075, 0.8813419 , 0.88421412, 0.88704711, 0.88974325,\n",
       "       0.89231543, 0.89485437, 0.89735882, 0.8997386 , 0.90208865,\n",
       "       0.90435217, 0.90655438, 0.90871729, 0.91083318, 0.91287681,\n",
       "       0.91487964, 0.91681483, 0.91872153, 0.92057931, 0.92241616,\n",
       "       0.92420545, 0.92594467, 0.92766094, 0.92935009, 0.93103488,\n",
       "       0.93267184, 0.93423275, 0.93573845, 0.93723073, 0.93866885,\n",
       "       0.94009283, 0.9414885 , 0.94288134, 0.94422109, 0.9455419 ,\n",
       "       0.94684588, 0.94814114, 0.94938024, 0.95058319, 0.95177924,\n",
       "       0.95294   , 0.95408294, 0.95519807, 0.95629881, 0.95737831,\n",
       "       0.95844195, 0.95949591, 0.96053399, 0.96153804, 0.96251334,\n",
       "       0.96347628, 0.96441748, 0.96533845, 0.96624238, 0.96712349,\n",
       "       0.96798509, 0.96882609, 0.96964932, 0.97045473, 0.97123591])"
      ]
     },
     "execution_count": 86,
     "metadata": {},
     "output_type": "execute_result"
    }
   ],
   "source": [
    "pca=PCA(n_components=100)\n",
    "pca.fit(animals_std)\n",
    "pca.transform(animals_std)\n",
    "\n",
    "pca.explained_variance_ratio_.cumsum()"
   ]
  },
  {
   "cell_type": "code",
   "execution_count": 88,
   "metadata": {
    "ExecuteTime": {
     "end_time": "2020-12-02T20:48:56.318603Z",
     "start_time": "2020-12-02T20:48:54.731251Z"
    },
    "scrolled": true
   },
   "outputs": [
    {
     "data": {
      "text/html": [
       "<div>\n",
       "<style scoped>\n",
       "    .dataframe tbody tr th:only-of-type {\n",
       "        vertical-align: middle;\n",
       "    }\n",
       "\n",
       "    .dataframe tbody tr th {\n",
       "        vertical-align: top;\n",
       "    }\n",
       "\n",
       "    .dataframe thead th {\n",
       "        text-align: right;\n",
       "    }\n",
       "</style>\n",
       "<table border=\"1\" class=\"dataframe\">\n",
       "  <thead>\n",
       "    <tr style=\"text-align: right;\">\n",
       "      <th></th>\n",
       "      <th>pc1</th>\n",
       "      <th>pc2</th>\n",
       "      <th>pc3</th>\n",
       "      <th>pc4</th>\n",
       "      <th>pc5</th>\n",
       "      <th>pc6</th>\n",
       "      <th>pc7</th>\n",
       "      <th>pc8</th>\n",
       "      <th>pc9</th>\n",
       "      <th>pc10</th>\n",
       "      <th>...</th>\n",
       "      <th>pc91</th>\n",
       "      <th>pc92</th>\n",
       "      <th>pc93</th>\n",
       "      <th>pc94</th>\n",
       "      <th>pc95</th>\n",
       "      <th>pc96</th>\n",
       "      <th>pc97</th>\n",
       "      <th>pc98</th>\n",
       "      <th>pc99</th>\n",
       "      <th>pc100</th>\n",
       "    </tr>\n",
       "  </thead>\n",
       "  <tbody>\n",
       "    <tr>\n",
       "      <th>0</th>\n",
       "      <td>45.544981</td>\n",
       "      <td>-25.238939</td>\n",
       "      <td>-11.781203</td>\n",
       "      <td>12.423799</td>\n",
       "      <td>15.065722</td>\n",
       "      <td>4.166340</td>\n",
       "      <td>7.309767</td>\n",
       "      <td>-10.368909</td>\n",
       "      <td>15.354562</td>\n",
       "      <td>1.781839</td>\n",
       "      <td>...</td>\n",
       "      <td>2.237398</td>\n",
       "      <td>-0.249114</td>\n",
       "      <td>1.571991</td>\n",
       "      <td>2.245459</td>\n",
       "      <td>-2.928354</td>\n",
       "      <td>1.685137</td>\n",
       "      <td>-3.121255</td>\n",
       "      <td>0.571710</td>\n",
       "      <td>-0.680034</td>\n",
       "      <td>1.847463</td>\n",
       "    </tr>\n",
       "    <tr>\n",
       "      <th>1</th>\n",
       "      <td>-24.832859</td>\n",
       "      <td>-41.571686</td>\n",
       "      <td>-1.973111</td>\n",
       "      <td>7.216295</td>\n",
       "      <td>-2.162598</td>\n",
       "      <td>-16.066915</td>\n",
       "      <td>-13.708028</td>\n",
       "      <td>-26.485673</td>\n",
       "      <td>-0.724812</td>\n",
       "      <td>-10.875742</td>\n",
       "      <td>...</td>\n",
       "      <td>1.946289</td>\n",
       "      <td>-3.488678</td>\n",
       "      <td>2.769133</td>\n",
       "      <td>0.538438</td>\n",
       "      <td>0.617722</td>\n",
       "      <td>-0.680319</td>\n",
       "      <td>2.157507</td>\n",
       "      <td>-1.771319</td>\n",
       "      <td>0.735965</td>\n",
       "      <td>-0.225846</td>\n",
       "    </tr>\n",
       "    <tr>\n",
       "      <th>2</th>\n",
       "      <td>27.469245</td>\n",
       "      <td>11.958187</td>\n",
       "      <td>13.893619</td>\n",
       "      <td>5.359900</td>\n",
       "      <td>-1.393319</td>\n",
       "      <td>-3.092443</td>\n",
       "      <td>7.593081</td>\n",
       "      <td>-4.700103</td>\n",
       "      <td>6.206358</td>\n",
       "      <td>-3.901176</td>\n",
       "      <td>...</td>\n",
       "      <td>1.910215</td>\n",
       "      <td>0.962832</td>\n",
       "      <td>-0.895932</td>\n",
       "      <td>2.435135</td>\n",
       "      <td>-0.551541</td>\n",
       "      <td>2.877287</td>\n",
       "      <td>0.609909</td>\n",
       "      <td>0.893085</td>\n",
       "      <td>-0.287659</td>\n",
       "      <td>0.772435</td>\n",
       "    </tr>\n",
       "    <tr>\n",
       "      <th>3</th>\n",
       "      <td>-22.599855</td>\n",
       "      <td>-9.839362</td>\n",
       "      <td>8.600154</td>\n",
       "      <td>-1.931319</td>\n",
       "      <td>-2.039725</td>\n",
       "      <td>1.335471</td>\n",
       "      <td>-2.717117</td>\n",
       "      <td>0.656298</td>\n",
       "      <td>3.868782</td>\n",
       "      <td>11.675506</td>\n",
       "      <td>...</td>\n",
       "      <td>-1.285152</td>\n",
       "      <td>-2.082544</td>\n",
       "      <td>1.701043</td>\n",
       "      <td>-0.381602</td>\n",
       "      <td>-1.368532</td>\n",
       "      <td>0.501987</td>\n",
       "      <td>1.940311</td>\n",
       "      <td>2.541071</td>\n",
       "      <td>-0.206902</td>\n",
       "      <td>0.762233</td>\n",
       "    </tr>\n",
       "    <tr>\n",
       "      <th>4</th>\n",
       "      <td>19.360356</td>\n",
       "      <td>-18.812025</td>\n",
       "      <td>-11.399260</td>\n",
       "      <td>-18.441544</td>\n",
       "      <td>-1.340036</td>\n",
       "      <td>4.315394</td>\n",
       "      <td>1.680961</td>\n",
       "      <td>-1.446242</td>\n",
       "      <td>16.133497</td>\n",
       "      <td>-8.642339</td>\n",
       "      <td>...</td>\n",
       "      <td>0.456161</td>\n",
       "      <td>-0.117311</td>\n",
       "      <td>0.098205</td>\n",
       "      <td>-0.703225</td>\n",
       "      <td>-4.182339</td>\n",
       "      <td>3.732075</td>\n",
       "      <td>-3.113259</td>\n",
       "      <td>0.494030</td>\n",
       "      <td>3.043963</td>\n",
       "      <td>3.853862</td>\n",
       "    </tr>\n",
       "    <tr>\n",
       "      <th>...</th>\n",
       "      <td>...</td>\n",
       "      <td>...</td>\n",
       "      <td>...</td>\n",
       "      <td>...</td>\n",
       "      <td>...</td>\n",
       "      <td>...</td>\n",
       "      <td>...</td>\n",
       "      <td>...</td>\n",
       "      <td>...</td>\n",
       "      <td>...</td>\n",
       "      <td>...</td>\n",
       "      <td>...</td>\n",
       "      <td>...</td>\n",
       "      <td>...</td>\n",
       "      <td>...</td>\n",
       "      <td>...</td>\n",
       "      <td>...</td>\n",
       "      <td>...</td>\n",
       "      <td>...</td>\n",
       "      <td>...</td>\n",
       "      <td>...</td>\n",
       "    </tr>\n",
       "    <tr>\n",
       "      <th>155</th>\n",
       "      <td>-0.540205</td>\n",
       "      <td>15.293931</td>\n",
       "      <td>9.526278</td>\n",
       "      <td>-14.247259</td>\n",
       "      <td>7.560306</td>\n",
       "      <td>5.330590</td>\n",
       "      <td>14.467990</td>\n",
       "      <td>-0.688220</td>\n",
       "      <td>5.755224</td>\n",
       "      <td>2.892199</td>\n",
       "      <td>...</td>\n",
       "      <td>-1.710207</td>\n",
       "      <td>-1.584295</td>\n",
       "      <td>-0.663392</td>\n",
       "      <td>-1.576148</td>\n",
       "      <td>-3.788130</td>\n",
       "      <td>2.262390</td>\n",
       "      <td>1.038865</td>\n",
       "      <td>-0.226622</td>\n",
       "      <td>-3.894330</td>\n",
       "      <td>2.232160</td>\n",
       "    </tr>\n",
       "    <tr>\n",
       "      <th>156</th>\n",
       "      <td>-16.701598</td>\n",
       "      <td>20.898395</td>\n",
       "      <td>13.354468</td>\n",
       "      <td>-1.922384</td>\n",
       "      <td>4.137752</td>\n",
       "      <td>12.649715</td>\n",
       "      <td>18.090069</td>\n",
       "      <td>-9.267961</td>\n",
       "      <td>10.504957</td>\n",
       "      <td>11.722160</td>\n",
       "      <td>...</td>\n",
       "      <td>3.148648</td>\n",
       "      <td>-0.972881</td>\n",
       "      <td>-1.874652</td>\n",
       "      <td>-3.355278</td>\n",
       "      <td>7.198977</td>\n",
       "      <td>1.068394</td>\n",
       "      <td>-1.635857</td>\n",
       "      <td>0.989125</td>\n",
       "      <td>-1.807961</td>\n",
       "      <td>-0.979101</td>\n",
       "    </tr>\n",
       "    <tr>\n",
       "      <th>157</th>\n",
       "      <td>-18.718427</td>\n",
       "      <td>20.867385</td>\n",
       "      <td>0.641788</td>\n",
       "      <td>0.462591</td>\n",
       "      <td>-6.693566</td>\n",
       "      <td>8.873389</td>\n",
       "      <td>-6.227702</td>\n",
       "      <td>-1.113886</td>\n",
       "      <td>1.102655</td>\n",
       "      <td>2.666966</td>\n",
       "      <td>...</td>\n",
       "      <td>1.357454</td>\n",
       "      <td>-0.268287</td>\n",
       "      <td>1.862823</td>\n",
       "      <td>-0.387837</td>\n",
       "      <td>-0.695526</td>\n",
       "      <td>0.600126</td>\n",
       "      <td>-1.201580</td>\n",
       "      <td>-0.536914</td>\n",
       "      <td>0.490478</td>\n",
       "      <td>-0.225286</td>\n",
       "    </tr>\n",
       "    <tr>\n",
       "      <th>158</th>\n",
       "      <td>-14.326408</td>\n",
       "      <td>-14.334384</td>\n",
       "      <td>-12.786783</td>\n",
       "      <td>-8.715115</td>\n",
       "      <td>2.766305</td>\n",
       "      <td>-0.695168</td>\n",
       "      <td>23.505504</td>\n",
       "      <td>14.868099</td>\n",
       "      <td>-0.942172</td>\n",
       "      <td>-21.235964</td>\n",
       "      <td>...</td>\n",
       "      <td>-3.155826</td>\n",
       "      <td>0.912842</td>\n",
       "      <td>4.063770</td>\n",
       "      <td>-1.957378</td>\n",
       "      <td>-0.171139</td>\n",
       "      <td>1.338494</td>\n",
       "      <td>1.852746</td>\n",
       "      <td>-1.126741</td>\n",
       "      <td>1.122157</td>\n",
       "      <td>-0.438957</td>\n",
       "    </tr>\n",
       "    <tr>\n",
       "      <th>159</th>\n",
       "      <td>10.455009</td>\n",
       "      <td>8.366717</td>\n",
       "      <td>-10.040364</td>\n",
       "      <td>-15.303771</td>\n",
       "      <td>3.246373</td>\n",
       "      <td>8.011207</td>\n",
       "      <td>-5.845957</td>\n",
       "      <td>3.850576</td>\n",
       "      <td>-2.630158</td>\n",
       "      <td>-1.722710</td>\n",
       "      <td>...</td>\n",
       "      <td>1.057795</td>\n",
       "      <td>0.853711</td>\n",
       "      <td>-3.860508</td>\n",
       "      <td>-3.494310</td>\n",
       "      <td>-1.416286</td>\n",
       "      <td>2.740452</td>\n",
       "      <td>1.749492</td>\n",
       "      <td>-3.112148</td>\n",
       "      <td>-1.252420</td>\n",
       "      <td>0.833658</td>\n",
       "    </tr>\n",
       "  </tbody>\n",
       "</table>\n",
       "<p>160 rows × 100 columns</p>\n",
       "</div>"
      ],
      "text/plain": [
       "           pc1        pc2        pc3        pc4        pc5        pc6  \\\n",
       "0    45.544981 -25.238939 -11.781203  12.423799  15.065722   4.166340   \n",
       "1   -24.832859 -41.571686  -1.973111   7.216295  -2.162598 -16.066915   \n",
       "2    27.469245  11.958187  13.893619   5.359900  -1.393319  -3.092443   \n",
       "3   -22.599855  -9.839362   8.600154  -1.931319  -2.039725   1.335471   \n",
       "4    19.360356 -18.812025 -11.399260 -18.441544  -1.340036   4.315394   \n",
       "..         ...        ...        ...        ...        ...        ...   \n",
       "155  -0.540205  15.293931   9.526278 -14.247259   7.560306   5.330590   \n",
       "156 -16.701598  20.898395  13.354468  -1.922384   4.137752  12.649715   \n",
       "157 -18.718427  20.867385   0.641788   0.462591  -6.693566   8.873389   \n",
       "158 -14.326408 -14.334384 -12.786783  -8.715115   2.766305  -0.695168   \n",
       "159  10.455009   8.366717 -10.040364 -15.303771   3.246373   8.011207   \n",
       "\n",
       "           pc7        pc8        pc9       pc10  ...      pc91      pc92  \\\n",
       "0     7.309767 -10.368909  15.354562   1.781839  ...  2.237398 -0.249114   \n",
       "1   -13.708028 -26.485673  -0.724812 -10.875742  ...  1.946289 -3.488678   \n",
       "2     7.593081  -4.700103   6.206358  -3.901176  ...  1.910215  0.962832   \n",
       "3    -2.717117   0.656298   3.868782  11.675506  ... -1.285152 -2.082544   \n",
       "4     1.680961  -1.446242  16.133497  -8.642339  ...  0.456161 -0.117311   \n",
       "..         ...        ...        ...        ...  ...       ...       ...   \n",
       "155  14.467990  -0.688220   5.755224   2.892199  ... -1.710207 -1.584295   \n",
       "156  18.090069  -9.267961  10.504957  11.722160  ...  3.148648 -0.972881   \n",
       "157  -6.227702  -1.113886   1.102655   2.666966  ...  1.357454 -0.268287   \n",
       "158  23.505504  14.868099  -0.942172 -21.235964  ... -3.155826  0.912842   \n",
       "159  -5.845957   3.850576  -2.630158  -1.722710  ...  1.057795  0.853711   \n",
       "\n",
       "         pc93      pc94      pc95      pc96      pc97      pc98      pc99  \\\n",
       "0    1.571991  2.245459 -2.928354  1.685137 -3.121255  0.571710 -0.680034   \n",
       "1    2.769133  0.538438  0.617722 -0.680319  2.157507 -1.771319  0.735965   \n",
       "2   -0.895932  2.435135 -0.551541  2.877287  0.609909  0.893085 -0.287659   \n",
       "3    1.701043 -0.381602 -1.368532  0.501987  1.940311  2.541071 -0.206902   \n",
       "4    0.098205 -0.703225 -4.182339  3.732075 -3.113259  0.494030  3.043963   \n",
       "..        ...       ...       ...       ...       ...       ...       ...   \n",
       "155 -0.663392 -1.576148 -3.788130  2.262390  1.038865 -0.226622 -3.894330   \n",
       "156 -1.874652 -3.355278  7.198977  1.068394 -1.635857  0.989125 -1.807961   \n",
       "157  1.862823 -0.387837 -0.695526  0.600126 -1.201580 -0.536914  0.490478   \n",
       "158  4.063770 -1.957378 -0.171139  1.338494  1.852746 -1.126741  1.122157   \n",
       "159 -3.860508 -3.494310 -1.416286  2.740452  1.749492 -3.112148 -1.252420   \n",
       "\n",
       "        pc100  \n",
       "0    1.847463  \n",
       "1   -0.225846  \n",
       "2    0.772435  \n",
       "3    0.762233  \n",
       "4    3.853862  \n",
       "..        ...  \n",
       "155  2.232160  \n",
       "156 -0.979101  \n",
       "157 -0.225286  \n",
       "158 -0.438957  \n",
       "159  0.833658  \n",
       "\n",
       "[160 rows x 100 columns]"
      ]
     },
     "execution_count": 88,
     "metadata": {},
     "output_type": "execute_result"
    }
   ],
   "source": [
    "lista_pca_100=[pca.transform(animals_std)[:, i] for i in range(100)]\n",
    "df100=pd.DataFrame(lista_pca_100).T\n",
    "df100.columns=[f\"pc{i+1}\" for i in range(100)]\n",
    "df100"
   ]
  },
  {
   "cell_type": "code",
   "execution_count": 92,
   "metadata": {
    "ExecuteTime": {
     "end_time": "2020-12-02T20:53:57.358438Z",
     "start_time": "2020-12-02T20:53:56.680482Z"
    },
    "cell_style": "center"
   },
   "outputs": [
    {
     "data": {
      "text/plain": [
       "<matplotlib.image.AxesImage at 0x125178850>"
      ]
     },
     "execution_count": 92,
     "metadata": {},
     "output_type": "execute_result"
    },
    {
     "data": {
      "image/png": "[encoded data removed]",
      "text/plain": [
       "<Figure size 432x288 with 1 Axes>"
      ]
     },
     "metadata": {
      "needs_background": "light"
     },
     "output_type": "display_data"
    }
   ],
   "source": [
    "df_novo_100=pca.inverse_transform(df100)\n",
    "plt.imshow(df_novo_100[105].reshape(64, 64), cmap=\"copper\")"
   ]
  },
  {
   "cell_type": "markdown",
   "metadata": {},
   "source": [
    "The results above demonstrate the power of the PCA analysis. It takes the best combination of your columns in such a way that it preserves the most of its information. So, although you lose some of the information, you effectively reduce the number of dimensions on your dataset. This can be important both for visualization purposes as well as for understanding the importance of each feature."
   ]
  }
 ],
 "metadata": {
  "hide_input": false,
  "kernelspec": {
   "display_name": "Python 3",
   "language": "python",
   "name": "python3"
  },
  "language_info": {
   "codemirror_mode": {
    "name": "ipython",
    "version": 3
   },
   "file_extension": ".py",
   "mimetype": "text/x-python",
   "name": "python",
   "nbconvert_exporter": "python",
   "pygments_lexer": "ipython3",
   "version": "3.8.2"
  },
  "toc": {
   "base_numbering": 1,
   "nav_menu": {},
   "number_sections": true,
   "sideBar": true,
   "skip_h1_title": false,
   "title_cell": "Table of Contents",
   "title_sidebar": "Contents",
   "toc_cell": false,
   "toc_position": {},
   "toc_section_display": true,
   "toc_window_display": false
  },
  "varInspector": {
   "cols": {
    "lenName": 16,
    "lenType": 16,
    "lenVar": 40
   },
   "kernels_config": {
    "python": {
     "delete_cmd_postfix": "",
     "delete_cmd_prefix": "del ",
     "library": "var_list.py",
     "varRefreshCmd": "print(var_dic_list())"
    },
    "r": {
     "delete_cmd_postfix": ") ",
     "delete_cmd_prefix": "rm(",
     "library": "var_list.r",
     "varRefreshCmd": "cat(var_dic_list()) "
    }
   },
   "types_to_exclude": [
    "module",
    "function",
    "builtin_function_or_method",
    "instance",
    "_Feature"
   ],
   "window_display": false
  }
 },
 "nbformat": 4,
 "nbformat_minor": 2
}
