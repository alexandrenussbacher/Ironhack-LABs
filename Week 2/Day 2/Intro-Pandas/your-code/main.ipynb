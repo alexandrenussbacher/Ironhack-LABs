{
 "cells": [
  {
   "cell_type": "markdown",
   "metadata": {
    "colab_type": "text",
    "id": "YE3unUd1OcTs"
   },
   "source": [
    "![Ironhack logo](https://i.imgur.com/1QgrNNw.png)\n",
    "\n",
    "# Lab | Introduction to Pandas\n",
    "\n",
    "## Introduction\n",
    "\n",
    "In the Introduction to Pandas lesson, we learned about the two main data structures in Pandas (Series and DataFrames), how to work with them, how to obtain them from other data structures, and how to perform basic calculations with them.\n",
    "\n",
    "The goal of this lab is to help you practice the concepts you learned in the lesson and provide you with some hands-on experience working with Pandas.\n",
    "\n",
    "## Getting Started\n",
    "\n",
    "Read the instructions for each cell and provide your answers. Make sure to test your answers in each cell and save. Jupyter Notebook should automatically save your work progress. But it's a good idea to periodically save your work manually just in case.\n",
    "\n",
    "## Resources\n",
    "\n",
    "- [Pandas Documentation](https://pandas.pydata.org/pandas-docs/stable/)\n",
    "- [Intro to Pandas Data Structures](https://pandas.pydata.org/pandas-docs/stable/dsintro.html)\n",
    "- [Descriptive Statistics for Pandas DataFrame](https://chrisalbon.com/python/data_wrangling/pandas_dataframe_descriptive_stats/)"
   ]
  },
  {
   "cell_type": "markdown",
   "metadata": {
    "colab_type": "text",
    "id": "yjGkOvNMOajh"
   },
   "source": [
    "# Introduction to Pandas\n",
    "\n",
    "Complete the following set of exercises to solidify your knowledge of Pandas fundamentals."
   ]
  },
  {
   "cell_type": "markdown",
   "metadata": {
    "colab_type": "text",
    "id": "wBPxNR9QOajj"
   },
   "source": [
    "#### 1. Import Numpy and Pandas and alias them to `np` and `pd` respectively."
   ]
  },
  {
   "cell_type": "code",
   "execution_count": 50,
   "metadata": {
    "ExecuteTime": {
     "end_time": "2020-10-29T00:21:32.477008Z",
     "start_time": "2020-10-29T00:21:32.472633Z"
    },
    "colab": {},
    "colab_type": "code",
    "id": "iH3FotJGOajk"
   },
   "outputs": [],
   "source": [
    "# your code here\n",
    "import numpy as np\n",
    "import pandas as pd"
   ]
  },
  {
   "cell_type": "markdown",
   "metadata": {
    "colab_type": "text",
    "id": "Lx1LrDcHOajp"
   },
   "source": [
    "#### 2. Create a Pandas Series containing the elements of the list below.\n",
    "\n",
    "Expected output:\n",
    "\n",
    "````python\n",
    "            0     5.7\n",
    "            1    75.2\n",
    "            2    74.4\n",
    "            3    84.0\n",
    "            4    66.5\n",
    "            5    66.3\n",
    "            6    55.8\n",
    "            7    75.7\n",
    "            8    29.1\n",
    "            9    43.7\n",
    "            dtype: float64\n",
    "    \n",
    "````"
   ]
  },
  {
   "cell_type": "code",
   "execution_count": 2,
   "metadata": {
    "ExecuteTime": {
     "end_time": "2020-10-27T17:25:28.052959Z",
     "start_time": "2020-10-27T17:25:28.045469Z"
    },
    "colab": {},
    "colab_type": "code",
    "id": "bx1BubQVOajq"
   },
   "outputs": [],
   "source": [
    "lst = [5.7, 75.2, 74.4, 84.0, 66.5, 66.3, 55.8, 75.7, 29.1, 43.7]"
   ]
  },
  {
   "cell_type": "code",
   "execution_count": 51,
   "metadata": {
    "ExecuteTime": {
     "end_time": "2020-10-29T00:21:35.589939Z",
     "start_time": "2020-10-29T00:21:35.580920Z"
    },
    "colab": {},
    "colab_type": "code",
    "id": "jDIb1LZDOaju"
   },
   "outputs": [
    {
     "data": {
      "text/plain": [
       "0     5.7\n",
       "1    75.2\n",
       "2    74.4\n",
       "3    84.0\n",
       "4    66.5\n",
       "5    66.3\n",
       "6    55.8\n",
       "7    75.7\n",
       "8    29.1\n",
       "9    43.7\n",
       "dtype: float64"
      ]
     },
     "execution_count": 51,
     "metadata": {},
     "output_type": "execute_result"
    }
   ],
   "source": [
    "# your code here\n",
    "my_series=pd.Series(lst)\n",
    "my_series"
   ]
  },
  {
   "cell_type": "markdown",
   "metadata": {
    "colab_type": "text",
    "id": "D5asOdE0Oajy"
   },
   "source": [
    "#### 3. Use indexing to return the third value in the Series above.\n",
    "\n",
    "*Hint: Remember that indexing begins at 0.*"
   ]
  },
  {
   "cell_type": "code",
   "execution_count": 5,
   "metadata": {
    "ExecuteTime": {
     "end_time": "2020-10-27T17:26:11.113623Z",
     "start_time": "2020-10-27T17:26:11.104083Z"
    },
    "colab": {},
    "colab_type": "code",
    "id": "Nd8JObixOajz"
   },
   "outputs": [
    {
     "data": {
      "text/plain": [
       "74.4"
      ]
     },
     "execution_count": 5,
     "metadata": {},
     "output_type": "execute_result"
    }
   ],
   "source": [
    "# your code here\n",
    "my_series[2]"
   ]
  },
  {
   "cell_type": "markdown",
   "metadata": {
    "colab_type": "text",
    "id": "M06z_OPLOaj3"
   },
   "source": [
    "#### 4. Create a Pandas DataFrame from the list of lists below. Each sublist should be represented as a row.\n",
    "\n",
    "Expected output:\n",
    "\n",
    "|    |    0 |    1 |    2 |    3 |    4 |\n",
    "|---:|-----:|-----:|-----:|-----:|-----:|\n",
    "|  0 | 53.1 | 95   | 67.5 | 35   | 78.4 |\n",
    "|  1 | 61.3 | 40.8 | 30.8 | 37.8 | 87.6 |\n",
    "|  2 | 20.6 | 73.2 | 44.2 | 14.6 | 91.8 |\n",
    "|  3 | 57.4 |  0.1 | 96.1 |  4.2 | 69.5 |\n",
    "|  4 | 83.6 | 20.5 | 85.4 | 22.8 | 35.9 |\n",
    "|  5 | 49   | 69   |  0.1 | 31.8 | 89.1 |\n",
    "|  6 | 23.3 | 40.7 | 95   | 83.8 | 26.9 |\n",
    "|  7 | 27.6 | 26.4 | 53.8 | 88.8 | 68.5 |\n",
    "|  8 | 96.6 | 96.4 | 53.4 | 72.4 | 50.1 |\n",
    "|  9 | 73.7 | 39   | 43.2 | 81.6 | 34.7 |"
   ]
  },
  {
   "cell_type": "code",
   "execution_count": 6,
   "metadata": {
    "ExecuteTime": {
     "end_time": "2020-10-27T17:26:26.814781Z",
     "start_time": "2020-10-27T17:26:26.805081Z"
    },
    "colab": {},
    "colab_type": "code",
    "id": "TJ2X7jXvOaj5"
   },
   "outputs": [],
   "source": [
    "b = [[53.1, 95.0, 67.5, 35.0, 78.4],\n",
    "     [61.3, 40.8, 30.8, 37.8, 87.6],\n",
    "     [20.6, 73.2, 44.2, 14.6, 91.8],\n",
    "     [57.4, 0.1, 96.1, 4.2, 69.5],\n",
    "     [83.6, 20.5, 85.4, 22.8, 35.9],\n",
    "     [49.0, 69.0, 0.1, 31.8, 89.1],\n",
    "     [23.3, 40.7, 95.0, 83.8, 26.9],\n",
    "     [27.6, 26.4, 53.8, 88.8, 68.5],\n",
    "     [96.6, 96.4, 53.4, 72.4, 50.1],\n",
    "     [73.7, 39.0, 43.2, 81.6, 34.7]]"
   ]
  },
  {
   "cell_type": "code",
   "execution_count": 8,
   "metadata": {
    "ExecuteTime": {
     "end_time": "2020-10-27T17:26:56.984123Z",
     "start_time": "2020-10-27T17:26:56.958978Z"
    },
    "colab": {},
    "colab_type": "code",
    "id": "uAjXmK9VOakA"
   },
   "outputs": [
    {
     "data": {
      "text/html": [
       "<div>\n",
       "<style scoped>\n",
       "    .dataframe tbody tr th:only-of-type {\n",
       "        vertical-align: middle;\n",
       "    }\n",
       "\n",
       "    .dataframe tbody tr th {\n",
       "        vertical-align: top;\n",
       "    }\n",
       "\n",
       "    .dataframe thead th {\n",
       "        text-align: right;\n",
       "    }\n",
       "</style>\n",
       "<table border=\"1\" class=\"dataframe\">\n",
       "  <thead>\n",
       "    <tr style=\"text-align: right;\">\n",
       "      <th></th>\n",
       "      <th>0</th>\n",
       "      <th>1</th>\n",
       "      <th>2</th>\n",
       "      <th>3</th>\n",
       "      <th>4</th>\n",
       "    </tr>\n",
       "  </thead>\n",
       "  <tbody>\n",
       "    <tr>\n",
       "      <th>0</th>\n",
       "      <td>53.1</td>\n",
       "      <td>95.0</td>\n",
       "      <td>67.5</td>\n",
       "      <td>35.0</td>\n",
       "      <td>78.4</td>\n",
       "    </tr>\n",
       "    <tr>\n",
       "      <th>1</th>\n",
       "      <td>61.3</td>\n",
       "      <td>40.8</td>\n",
       "      <td>30.8</td>\n",
       "      <td>37.8</td>\n",
       "      <td>87.6</td>\n",
       "    </tr>\n",
       "    <tr>\n",
       "      <th>2</th>\n",
       "      <td>20.6</td>\n",
       "      <td>73.2</td>\n",
       "      <td>44.2</td>\n",
       "      <td>14.6</td>\n",
       "      <td>91.8</td>\n",
       "    </tr>\n",
       "    <tr>\n",
       "      <th>3</th>\n",
       "      <td>57.4</td>\n",
       "      <td>0.1</td>\n",
       "      <td>96.1</td>\n",
       "      <td>4.2</td>\n",
       "      <td>69.5</td>\n",
       "    </tr>\n",
       "    <tr>\n",
       "      <th>4</th>\n",
       "      <td>83.6</td>\n",
       "      <td>20.5</td>\n",
       "      <td>85.4</td>\n",
       "      <td>22.8</td>\n",
       "      <td>35.9</td>\n",
       "    </tr>\n",
       "    <tr>\n",
       "      <th>5</th>\n",
       "      <td>49.0</td>\n",
       "      <td>69.0</td>\n",
       "      <td>0.1</td>\n",
       "      <td>31.8</td>\n",
       "      <td>89.1</td>\n",
       "    </tr>\n",
       "    <tr>\n",
       "      <th>6</th>\n",
       "      <td>23.3</td>\n",
       "      <td>40.7</td>\n",
       "      <td>95.0</td>\n",
       "      <td>83.8</td>\n",
       "      <td>26.9</td>\n",
       "    </tr>\n",
       "    <tr>\n",
       "      <th>7</th>\n",
       "      <td>27.6</td>\n",
       "      <td>26.4</td>\n",
       "      <td>53.8</td>\n",
       "      <td>88.8</td>\n",
       "      <td>68.5</td>\n",
       "    </tr>\n",
       "    <tr>\n",
       "      <th>8</th>\n",
       "      <td>96.6</td>\n",
       "      <td>96.4</td>\n",
       "      <td>53.4</td>\n",
       "      <td>72.4</td>\n",
       "      <td>50.1</td>\n",
       "    </tr>\n",
       "    <tr>\n",
       "      <th>9</th>\n",
       "      <td>73.7</td>\n",
       "      <td>39.0</td>\n",
       "      <td>43.2</td>\n",
       "      <td>81.6</td>\n",
       "      <td>34.7</td>\n",
       "    </tr>\n",
       "  </tbody>\n",
       "</table>\n",
       "</div>"
      ],
      "text/plain": [
       "      0     1     2     3     4\n",
       "0  53.1  95.0  67.5  35.0  78.4\n",
       "1  61.3  40.8  30.8  37.8  87.6\n",
       "2  20.6  73.2  44.2  14.6  91.8\n",
       "3  57.4   0.1  96.1   4.2  69.5\n",
       "4  83.6  20.5  85.4  22.8  35.9\n",
       "5  49.0  69.0   0.1  31.8  89.1\n",
       "6  23.3  40.7  95.0  83.8  26.9\n",
       "7  27.6  26.4  53.8  88.8  68.5\n",
       "8  96.6  96.4  53.4  72.4  50.1\n",
       "9  73.7  39.0  43.2  81.6  34.7"
      ]
     },
     "execution_count": 8,
     "metadata": {},
     "output_type": "execute_result"
    }
   ],
   "source": [
    "# your code here\n",
    "df=pd.DataFrame(b)\n",
    "df"
   ]
  },
  {
   "cell_type": "markdown",
   "metadata": {
    "colab_type": "text",
    "id": "unMpXDeYOakG"
   },
   "source": [
    "#### 5. Rename the data frame columns based on the names in the list below.\n",
    "\n",
    "Expected output:\n",
    "\n",
    "|    |   Score_1 |   Score_2 |   Score_3 |   Score_4 |   Score_5 |\n",
    "|---:|----------:|----------:|----------:|----------:|----------:|\n",
    "|  0 |      53.1 |      95   |      67.5 |      35   |      78.4 |\n",
    "|  1 |      61.3 |      40.8 |      30.8 |      37.8 |      87.6 |\n",
    "|  2 |      20.6 |      73.2 |      44.2 |      14.6 |      91.8 |\n",
    "|  3 |      57.4 |       0.1 |      96.1 |       4.2 |      69.5 |\n",
    "|  4 |      83.6 |      20.5 |      85.4 |      22.8 |      35.9 |\n",
    "|  5 |      49   |      69   |       0.1 |      31.8 |      89.1 |\n",
    "|  6 |      23.3 |      40.7 |      95   |      83.8 |      26.9 |\n",
    "|  7 |      27.6 |      26.4 |      53.8 |      88.8 |      68.5 |\n",
    "|  8 |      96.6 |      96.4 |      53.4 |      72.4 |      50.1 |\n",
    "|  9 |      73.7 |      39   |      43.2 |      81.6 |      34.7 |"
   ]
  },
  {
   "cell_type": "code",
   "execution_count": 9,
   "metadata": {
    "ExecuteTime": {
     "end_time": "2020-10-27T17:27:37.339291Z",
     "start_time": "2020-10-27T17:27:37.333036Z"
    },
    "colab": {},
    "colab_type": "code",
    "id": "CR6Od3jCOakH"
   },
   "outputs": [],
   "source": [
    "colnames = ['Score_1', 'Score_2', 'Score_3', 'Score_4', 'Score_5']"
   ]
  },
  {
   "cell_type": "code",
   "execution_count": 26,
   "metadata": {
    "ExecuteTime": {
     "end_time": "2020-10-27T17:45:43.646734Z",
     "start_time": "2020-10-27T17:45:43.610826Z"
    },
    "colab": {},
    "colab_type": "code",
    "id": "4IGnjLB_OakL"
   },
   "outputs": [
    {
     "data": {
      "text/plain": [
       "RangeIndex(start=0, stop=10, step=1)"
      ]
     },
     "execution_count": 26,
     "metadata": {},
     "output_type": "execute_result"
    }
   ],
   "source": [
    "# your code here\n",
    "df=pd.DataFrame(data=b, columns=colnames)\n",
    "#df.columns=colnames"
   ]
  },
  {
   "cell_type": "markdown",
   "metadata": {
    "colab_type": "text",
    "id": "BSSlC9sHOakQ"
   },
   "source": [
    "#### 6. Create a subset of this data frame that contains only the Score 1, 3, and 5 columns.\n",
    "\n",
    "Expected output:\n",
    "\n",
    "|    |   Score_1 |   Score_3 |   Score_5 |\n",
    "|---:|----------:|----------:|----------:|\n",
    "|  0 |      53.1 |      67.5 |      78.4 |\n",
    "|  1 |      61.3 |      30.8 |      87.6 |\n",
    "|  2 |      20.6 |      44.2 |      91.8 |\n",
    "|  3 |      57.4 |      96.1 |      69.5 |\n",
    "|  4 |      83.6 |      85.4 |      35.9 |\n",
    "|  5 |      49   |       0.1 |      89.1 |\n",
    "|  6 |      23.3 |      95   |      26.9 |\n",
    "|  7 |      27.6 |      53.8 |      68.5 |\n",
    "|  8 |      96.6 |      53.4 |      50.1 |\n",
    "|  9 |      73.7 |      43.2 |      34.7 |"
   ]
  },
  {
   "cell_type": "code",
   "execution_count": 32,
   "metadata": {
    "ExecuteTime": {
     "end_time": "2020-10-27T17:50:44.341570Z",
     "start_time": "2020-10-27T17:50:44.299604Z"
    },
    "colab": {},
    "colab_type": "code",
    "id": "vAyr7_cpOakR"
   },
   "outputs": [
    {
     "data": {
      "text/html": [
       "<div>\n",
       "<style scoped>\n",
       "    .dataframe tbody tr th:only-of-type {\n",
       "        vertical-align: middle;\n",
       "    }\n",
       "\n",
       "    .dataframe tbody tr th {\n",
       "        vertical-align: top;\n",
       "    }\n",
       "\n",
       "    .dataframe thead th {\n",
       "        text-align: right;\n",
       "    }\n",
       "</style>\n",
       "<table border=\"1\" class=\"dataframe\">\n",
       "  <thead>\n",
       "    <tr style=\"text-align: right;\">\n",
       "      <th></th>\n",
       "      <th>Score_2</th>\n",
       "      <th>Score_3</th>\n",
       "      <th>Score_5</th>\n",
       "    </tr>\n",
       "  </thead>\n",
       "  <tbody>\n",
       "    <tr>\n",
       "      <th>0</th>\n",
       "      <td>95.0</td>\n",
       "      <td>67.5</td>\n",
       "      <td>78.4</td>\n",
       "    </tr>\n",
       "    <tr>\n",
       "      <th>1</th>\n",
       "      <td>40.8</td>\n",
       "      <td>30.8</td>\n",
       "      <td>87.6</td>\n",
       "    </tr>\n",
       "    <tr>\n",
       "      <th>2</th>\n",
       "      <td>73.2</td>\n",
       "      <td>44.2</td>\n",
       "      <td>91.8</td>\n",
       "    </tr>\n",
       "    <tr>\n",
       "      <th>3</th>\n",
       "      <td>0.1</td>\n",
       "      <td>96.1</td>\n",
       "      <td>69.5</td>\n",
       "    </tr>\n",
       "    <tr>\n",
       "      <th>4</th>\n",
       "      <td>20.5</td>\n",
       "      <td>85.4</td>\n",
       "      <td>35.9</td>\n",
       "    </tr>\n",
       "    <tr>\n",
       "      <th>5</th>\n",
       "      <td>69.0</td>\n",
       "      <td>0.1</td>\n",
       "      <td>89.1</td>\n",
       "    </tr>\n",
       "    <tr>\n",
       "      <th>6</th>\n",
       "      <td>40.7</td>\n",
       "      <td>95.0</td>\n",
       "      <td>26.9</td>\n",
       "    </tr>\n",
       "    <tr>\n",
       "      <th>7</th>\n",
       "      <td>26.4</td>\n",
       "      <td>53.8</td>\n",
       "      <td>68.5</td>\n",
       "    </tr>\n",
       "    <tr>\n",
       "      <th>8</th>\n",
       "      <td>96.4</td>\n",
       "      <td>53.4</td>\n",
       "      <td>50.1</td>\n",
       "    </tr>\n",
       "    <tr>\n",
       "      <th>9</th>\n",
       "      <td>39.0</td>\n",
       "      <td>43.2</td>\n",
       "      <td>34.7</td>\n",
       "    </tr>\n",
       "  </tbody>\n",
       "</table>\n",
       "</div>"
      ],
      "text/plain": [
       "   Score_2  Score_3  Score_5\n",
       "0     95.0     67.5     78.4\n",
       "1     40.8     30.8     87.6\n",
       "2     73.2     44.2     91.8\n",
       "3      0.1     96.1     69.5\n",
       "4     20.5     85.4     35.9\n",
       "5     69.0      0.1     89.1\n",
       "6     40.7     95.0     26.9\n",
       "7     26.4     53.8     68.5\n",
       "8     96.4     53.4     50.1\n",
       "9     39.0     43.2     34.7"
      ]
     },
     "execution_count": 32,
     "metadata": {},
     "output_type": "execute_result"
    }
   ],
   "source": [
    "# your code here\n",
    "df[[\"Score_1\", \"Score_3\", \"Score_5\"]]\n",
    "#df.loc[:,[\"Score_2\", \"Score_3\", \"Score_5\"]]"
   ]
  },
  {
   "cell_type": "markdown",
   "metadata": {
    "colab_type": "text",
    "id": "miFKTP45OakV"
   },
   "source": [
    "#### 7. From the original data frame, calculate the average Score_3 value.\n",
    "\n",
    "Expected output:\n",
    "\n",
    "````python\n",
    "            56.95\n",
    "````"
   ]
  },
  {
   "cell_type": "code",
   "execution_count": 41,
   "metadata": {
    "ExecuteTime": {
     "end_time": "2020-10-27T17:55:33.410794Z",
     "start_time": "2020-10-27T17:55:33.397079Z"
    },
    "colab": {},
    "colab_type": "code",
    "id": "MtfW8kfjOakW"
   },
   "outputs": [
    {
     "data": {
      "text/plain": [
       "56.95000000000001"
      ]
     },
     "execution_count": 41,
     "metadata": {},
     "output_type": "execute_result"
    }
   ],
   "source": [
    "# your code here\n",
    "df[\"Score_3\"].mean()"
   ]
  },
  {
   "cell_type": "markdown",
   "metadata": {
    "colab_type": "text",
    "id": "6_0HFCAMOakb"
   },
   "source": [
    "#### 8. From the original data frame, calculate the maximum Score_4 value.\n",
    "\n",
    "Expected output:\n",
    "\n",
    "````python\n",
    "            88.8\n",
    "````"
   ]
  },
  {
   "cell_type": "code",
   "execution_count": 42,
   "metadata": {
    "ExecuteTime": {
     "end_time": "2020-10-27T17:55:53.986657Z",
     "start_time": "2020-10-27T17:55:53.961986Z"
    },
    "colab": {},
    "colab_type": "code",
    "id": "nafpPRIaOakc"
   },
   "outputs": [
    {
     "data": {
      "text/plain": [
       "88.8"
      ]
     },
     "execution_count": 42,
     "metadata": {},
     "output_type": "execute_result"
    }
   ],
   "source": [
    "# your code here\n",
    "df[\"Score_4\"].max()"
   ]
  },
  {
   "cell_type": "markdown",
   "metadata": {
    "colab_type": "text",
    "id": "hEBEuc8NOakg"
   },
   "source": [
    "#### 9. From the original data frame, calculate the median Score 2 value.\n",
    "\n",
    "Expected output:\n",
    "\n",
    "````python\n",
    "            40.75\n",
    "````"
   ]
  },
  {
   "cell_type": "code",
   "execution_count": 18,
   "metadata": {
    "ExecuteTime": {
     "end_time": "2020-10-27T17:36:32.221952Z",
     "start_time": "2020-10-27T17:36:32.211250Z"
    },
    "colab": {},
    "colab_type": "code",
    "id": "zn1IpKxuOakh"
   },
   "outputs": [
    {
     "data": {
      "text/plain": [
       "40.75"
      ]
     },
     "execution_count": 18,
     "metadata": {},
     "output_type": "execute_result"
    }
   ],
   "source": [
    "# your code here\n",
    "df[\"Score_2\"].median()"
   ]
  },
  {
   "cell_type": "markdown",
   "metadata": {
    "colab_type": "text",
    "id": "LxoUIsIBOakl"
   },
   "source": [
    "#### 10. Create a Pandas DataFrame from the dictionary of product orders below.\n",
    "\n",
    "Expected output:\n",
    "\n",
    "|    | Description                       |   Quantity |   UnitPrice |   Revenue |\n",
    "|---:|:----------------------------------|-----------:|------------:|----------:|\n",
    "|  0 | LUNCH BAG APPLE DESIGN            |          1 |        1.65 |      1.65 |\n",
    "|  1 | SET OF 60 VINTAGE LEAF CAKE CASES |         24 |        0.55 |     13.2  |\n",
    "|  2 | RIBBON REEL STRIPES DESIGN        |          1 |        1.65 |      1.65 |\n",
    "|  3 | WORLD WAR 2 GLIDERS ASSTD DESIGNS |       2880 |        0.18 |    518.4  |\n",
    "|  4 | PLAYING CARDS JUBILEE UNION JACK  |          2 |        1.25 |      2.5  |\n",
    "|  5 | POPCORN HOLDER                    |          7 |        0.85 |      5.95 |\n",
    "|  6 | BOX OF VINTAGE ALPHABET BLOCKS    |          1 |       11.95 |     11.95 |\n",
    "|  7 | PARTY BUNTING                     |          4 |        4.95 |     19.8  |\n",
    "|  8 | JAZZ HEARTS ADDRESS BOOK          |         10 |        0.19 |      1.9  |\n",
    "|  9 | SET OF 4 SANTA PLACE SETTINGS     |         48 |        1.25 |     60    |"
   ]
  },
  {
   "cell_type": "code",
   "execution_count": 19,
   "metadata": {
    "ExecuteTime": {
     "end_time": "2020-10-27T17:36:39.594998Z",
     "start_time": "2020-10-27T17:36:39.588770Z"
    },
    "colab": {},
    "colab_type": "code",
    "id": "-w5XVN-aOakl"
   },
   "outputs": [],
   "source": [
    "orders = {'Description': ['LUNCH BAG APPLE DESIGN',\n",
    "  'SET OF 60 VINTAGE LEAF CAKE CASES ',\n",
    "  'RIBBON REEL STRIPES DESIGN ',\n",
    "  'WORLD WAR 2 GLIDERS ASSTD DESIGNS',\n",
    "  'PLAYING CARDS JUBILEE UNION JACK',\n",
    "  'POPCORN HOLDER',\n",
    "  'BOX OF VINTAGE ALPHABET BLOCKS',\n",
    "  'PARTY BUNTING',\n",
    "  'JAZZ HEARTS ADDRESS BOOK',\n",
    "  'SET OF 4 SANTA PLACE SETTINGS'],\n",
    " 'Quantity': [1, 24, 1, 2880, 2, 7, 1, 4, 10, 48],\n",
    " 'UnitPrice': [1.65, 0.55, 1.65, 0.18, 1.25, 0.85, 11.95, 4.95, 0.19, 1.25],\n",
    " 'Revenue': [1.65, 13.2, 1.65, 518.4, 2.5, 5.95, 11.95, 19.8, 1.9, 60.0]}"
   ]
  },
  {
   "cell_type": "code",
   "execution_count": 45,
   "metadata": {
    "ExecuteTime": {
     "end_time": "2020-10-27T18:03:23.413971Z",
     "start_time": "2020-10-27T18:03:23.379154Z"
    },
    "colab": {},
    "colab_type": "code",
    "id": "EBy90Me3Oakp"
   },
   "outputs": [
    {
     "data": {
      "text/html": [
       "<div>\n",
       "<style scoped>\n",
       "    .dataframe tbody tr th:only-of-type {\n",
       "        vertical-align: middle;\n",
       "    }\n",
       "\n",
       "    .dataframe tbody tr th {\n",
       "        vertical-align: top;\n",
       "    }\n",
       "\n",
       "    .dataframe thead th {\n",
       "        text-align: right;\n",
       "    }\n",
       "</style>\n",
       "<table border=\"1\" class=\"dataframe\">\n",
       "  <thead>\n",
       "    <tr style=\"text-align: right;\">\n",
       "      <th></th>\n",
       "      <th>Description</th>\n",
       "      <th>Quantity</th>\n",
       "      <th>UnitPrice</th>\n",
       "      <th>Revenue</th>\n",
       "    </tr>\n",
       "  </thead>\n",
       "  <tbody>\n",
       "    <tr>\n",
       "      <th>0</th>\n",
       "      <td>LUNCH BAG APPLE DESIGN</td>\n",
       "      <td>1</td>\n",
       "      <td>1.65</td>\n",
       "      <td>1.65</td>\n",
       "    </tr>\n",
       "    <tr>\n",
       "      <th>1</th>\n",
       "      <td>SET OF 60 VINTAGE LEAF CAKE CASES</td>\n",
       "      <td>24</td>\n",
       "      <td>0.55</td>\n",
       "      <td>13.20</td>\n",
       "    </tr>\n",
       "    <tr>\n",
       "      <th>2</th>\n",
       "      <td>RIBBON REEL STRIPES DESIGN</td>\n",
       "      <td>1</td>\n",
       "      <td>1.65</td>\n",
       "      <td>1.65</td>\n",
       "    </tr>\n",
       "    <tr>\n",
       "      <th>3</th>\n",
       "      <td>WORLD WAR 2 GLIDERS ASSTD DESIGNS</td>\n",
       "      <td>2880</td>\n",
       "      <td>0.18</td>\n",
       "      <td>518.40</td>\n",
       "    </tr>\n",
       "    <tr>\n",
       "      <th>4</th>\n",
       "      <td>PLAYING CARDS JUBILEE UNION JACK</td>\n",
       "      <td>2</td>\n",
       "      <td>1.25</td>\n",
       "      <td>2.50</td>\n",
       "    </tr>\n",
       "    <tr>\n",
       "      <th>5</th>\n",
       "      <td>POPCORN HOLDER</td>\n",
       "      <td>7</td>\n",
       "      <td>0.85</td>\n",
       "      <td>5.95</td>\n",
       "    </tr>\n",
       "    <tr>\n",
       "      <th>6</th>\n",
       "      <td>BOX OF VINTAGE ALPHABET BLOCKS</td>\n",
       "      <td>1</td>\n",
       "      <td>11.95</td>\n",
       "      <td>11.95</td>\n",
       "    </tr>\n",
       "    <tr>\n",
       "      <th>7</th>\n",
       "      <td>PARTY BUNTING</td>\n",
       "      <td>4</td>\n",
       "      <td>4.95</td>\n",
       "      <td>19.80</td>\n",
       "    </tr>\n",
       "    <tr>\n",
       "      <th>8</th>\n",
       "      <td>JAZZ HEARTS ADDRESS BOOK</td>\n",
       "      <td>10</td>\n",
       "      <td>0.19</td>\n",
       "      <td>1.90</td>\n",
       "    </tr>\n",
       "    <tr>\n",
       "      <th>9</th>\n",
       "      <td>SET OF 4 SANTA PLACE SETTINGS</td>\n",
       "      <td>48</td>\n",
       "      <td>1.25</td>\n",
       "      <td>60.00</td>\n",
       "    </tr>\n",
       "  </tbody>\n",
       "</table>\n",
       "</div>"
      ],
      "text/plain": [
       "                          Description  Quantity  UnitPrice  Revenue\n",
       "0              LUNCH BAG APPLE DESIGN         1       1.65     1.65\n",
       "1  SET OF 60 VINTAGE LEAF CAKE CASES         24       0.55    13.20\n",
       "2         RIBBON REEL STRIPES DESIGN          1       1.65     1.65\n",
       "3   WORLD WAR 2 GLIDERS ASSTD DESIGNS      2880       0.18   518.40\n",
       "4    PLAYING CARDS JUBILEE UNION JACK         2       1.25     2.50\n",
       "5                      POPCORN HOLDER         7       0.85     5.95\n",
       "6      BOX OF VINTAGE ALPHABET BLOCKS         1      11.95    11.95\n",
       "7                       PARTY BUNTING         4       4.95    19.80\n",
       "8            JAZZ HEARTS ADDRESS BOOK        10       0.19     1.90\n",
       "9       SET OF 4 SANTA PLACE SETTINGS        48       1.25    60.00"
      ]
     },
     "execution_count": 45,
     "metadata": {},
     "output_type": "execute_result"
    }
   ],
   "source": [
    "# your code here\n",
    "df1=pd.DataFrame(orders)\n",
    "df1"
   ]
  },
  {
   "cell_type": "markdown",
   "metadata": {
    "colab_type": "text",
    "id": "9ssXX6XPOakt"
   },
   "source": [
    "#### 11. Calculate the total quantity ordered and revenue generated from these orders.\n",
    "\n",
    "Expected output:\n",
    "\n",
    "````python\n",
    "            Quantity    2978.0\n",
    "            Revenue      637.0\n",
    "````"
   ]
  },
  {
   "cell_type": "code",
   "execution_count": 24,
   "metadata": {
    "ExecuteTime": {
     "end_time": "2020-10-27T17:39:22.395206Z",
     "start_time": "2020-10-27T17:39:22.388361Z"
    },
    "colab": {},
    "colab_type": "code",
    "id": "YitrlNafOaku"
   },
   "outputs": [
    {
     "name": "stdout",
     "output_type": "stream",
     "text": [
      "Quantity:  2978\n",
      "Revenue:  637.0\n"
     ]
    }
   ],
   "source": [
    "# your code here\n",
    "quantity=df1[\"Quantity\"].sum()\n",
    "revenue=df1[\"Revenue\"].sum()\n",
    "\n",
    "print(\"Quantity: \", quantity)\n",
    "print(\"Revenue: \", revenue)"
   ]
  },
  {
   "cell_type": "markdown",
   "metadata": {
    "colab_type": "text",
    "id": "GlSWl9TZOakz"
   },
   "source": [
    "#### 12. Obtain the prices of the most expensive and least expensive items ordered and print the difference.\n",
    "Expected output:\n",
    "\n",
    "````python\n",
    "            Most expensive:  11.95\n",
    "            Least expensive:  0.18\n",
    "            Difference:  11.77\n",
    "````"
   ]
  },
  {
   "cell_type": "code",
   "execution_count": 47,
   "metadata": {
    "ExecuteTime": {
     "end_time": "2020-10-27T18:03:56.266629Z",
     "start_time": "2020-10-27T18:03:56.233645Z"
    },
    "colab": {},
    "colab_type": "code",
    "id": "c1r8EZT6Oak0"
   },
   "outputs": [
    {
     "name": "stdout",
     "output_type": "stream",
     "text": [
      "Most expensive:  11.95\n",
      "Least expensive:  0.18\n",
      "Difference:  11.77\n"
     ]
    }
   ],
   "source": [
    "# your code here\n",
    "most_expensive=df1[\"UnitPrice\"].max()\n",
    "least_expensive=df1[\"UnitPrice\"].min()\n",
    "difference=most_expensive-least_expensive\n",
    "\n",
    "print(\"Most expensive: \", most_expensive)\n",
    "print(\"Least expensive: \", least_expensive)\n",
    "print(\"Difference: \", difference)"
   ]
  },
  {
   "cell_type": "markdown",
   "metadata": {
    "colab_type": "text",
    "id": "RweZ9QLBOak3"
   },
   "source": [
    "# BONUS"
   ]
  },
  {
   "cell_type": "markdown",
   "metadata": {
    "colab_type": "text",
    "id": "1w9-ZnH6Oak4"
   },
   "source": [
    "#### 1 Create a random dataframe containing 3 columns and 10 rows. \n",
    "\n",
    "*Hint: You'll have to use a `numpy.random` method to create random observations*\n",
    "\n",
    "**Example of output:**\n",
    "\n",
    "|    |         0 |        1 |        2 |\n",
    "|---:|----------:|---------:|---------:|\n",
    "|  0 | 0.0883504 | 0.867054 | 0.977949 |\n",
    "|  1 | 0.819555  | 0.643927 | 0.122975 |\n",
    "|  2 | 0.484618  | 0.515125 | 0.807791 |\n",
    "|  3 | 0.539583  | 0.620799 | 0.926963 |\n",
    "|  4 | 0.0479896 | 0.772282 | 0.621921 |\n",
    "|  5 | 0.1398    | 0.767678 | 0.678816 |\n",
    "|  6 | 0.0895157 | 0.242867 | 0.887941 |\n",
    "|  7 | 0.160186  | 0.750576 | 0.439416 |\n",
    "|  8 | 0.982747  | 0.652903 | 0.575518 |\n",
    "|  9 | 0.646373  | 0.523237 | 0.700222 |"
   ]
  },
  {
   "cell_type": "code",
   "execution_count": 53,
   "metadata": {
    "ExecuteTime": {
     "end_time": "2020-10-29T00:22:16.379792Z",
     "start_time": "2020-10-29T00:22:16.360352Z"
    },
    "colab": {},
    "colab_type": "code",
    "id": "ucxwFx9TOak5"
   },
   "outputs": [
    {
     "data": {
      "text/html": [
       "<div>\n",
       "<style scoped>\n",
       "    .dataframe tbody tr th:only-of-type {\n",
       "        vertical-align: middle;\n",
       "    }\n",
       "\n",
       "    .dataframe tbody tr th {\n",
       "        vertical-align: top;\n",
       "    }\n",
       "\n",
       "    .dataframe thead th {\n",
       "        text-align: right;\n",
       "    }\n",
       "</style>\n",
       "<table border=\"1\" class=\"dataframe\">\n",
       "  <thead>\n",
       "    <tr style=\"text-align: right;\">\n",
       "      <th></th>\n",
       "      <th>0</th>\n",
       "      <th>1</th>\n",
       "      <th>2</th>\n",
       "    </tr>\n",
       "  </thead>\n",
       "  <tbody>\n",
       "    <tr>\n",
       "      <th>0</th>\n",
       "      <td>0.181601</td>\n",
       "      <td>0.395092</td>\n",
       "      <td>0.352036</td>\n",
       "    </tr>\n",
       "    <tr>\n",
       "      <th>1</th>\n",
       "      <td>0.133939</td>\n",
       "      <td>0.709546</td>\n",
       "      <td>0.330503</td>\n",
       "    </tr>\n",
       "    <tr>\n",
       "      <th>2</th>\n",
       "      <td>0.422643</td>\n",
       "      <td>0.635318</td>\n",
       "      <td>0.128524</td>\n",
       "    </tr>\n",
       "    <tr>\n",
       "      <th>3</th>\n",
       "      <td>0.500552</td>\n",
       "      <td>0.555268</td>\n",
       "      <td>0.270995</td>\n",
       "    </tr>\n",
       "    <tr>\n",
       "      <th>4</th>\n",
       "      <td>0.009163</td>\n",
       "      <td>0.498504</td>\n",
       "      <td>0.545510</td>\n",
       "    </tr>\n",
       "    <tr>\n",
       "      <th>5</th>\n",
       "      <td>0.406041</td>\n",
       "      <td>0.975224</td>\n",
       "      <td>0.519215</td>\n",
       "    </tr>\n",
       "    <tr>\n",
       "      <th>6</th>\n",
       "      <td>0.448480</td>\n",
       "      <td>0.948973</td>\n",
       "      <td>0.632964</td>\n",
       "    </tr>\n",
       "    <tr>\n",
       "      <th>7</th>\n",
       "      <td>0.438635</td>\n",
       "      <td>0.365349</td>\n",
       "      <td>0.487714</td>\n",
       "    </tr>\n",
       "    <tr>\n",
       "      <th>8</th>\n",
       "      <td>0.730603</td>\n",
       "      <td>0.294075</td>\n",
       "      <td>0.736536</td>\n",
       "    </tr>\n",
       "    <tr>\n",
       "      <th>9</th>\n",
       "      <td>0.403091</td>\n",
       "      <td>0.500192</td>\n",
       "      <td>0.427158</td>\n",
       "    </tr>\n",
       "  </tbody>\n",
       "</table>\n",
       "</div>"
      ],
      "text/plain": [
       "          0         1         2\n",
       "0  0.181601  0.395092  0.352036\n",
       "1  0.133939  0.709546  0.330503\n",
       "2  0.422643  0.635318  0.128524\n",
       "3  0.500552  0.555268  0.270995\n",
       "4  0.009163  0.498504  0.545510\n",
       "5  0.406041  0.975224  0.519215\n",
       "6  0.448480  0.948973  0.632964\n",
       "7  0.438635  0.365349  0.487714\n",
       "8  0.730603  0.294075  0.736536\n",
       "9  0.403091  0.500192  0.427158"
      ]
     },
     "execution_count": 53,
     "metadata": {},
     "output_type": "execute_result"
    }
   ],
   "source": [
    "# your code here\n",
    "pd.DataFrame(np.random.random((10,3)))"
   ]
  },
  {
   "cell_type": "markdown",
   "metadata": {
    "colab_type": "text",
    "id": "clFAoNoYOak8"
   },
   "source": [
    "#### 2 Create a random dataframe containing 3 columns and 10 rows with specific column names. \n",
    "\n",
    "Use `['column1', 'column2', 'column3']` as the column names.\n",
    "\n",
    "**Example of output:**\n",
    "\n",
    "|    |   column1 |   column2 |   column3 |\n",
    "|---:|----------:|----------:|----------:|\n",
    "|  0 |        10 |        21 |        45 |\n",
    "|  1 |        32 |        87 |        39 |\n",
    "|  2 |        93 |        53 |         8 |\n",
    "|  3 |        52 |        77 |        41 |\n",
    "|  4 |        72 |        50 |        31 |\n",
    "|  5 |        16 |         6 |        41 |\n",
    "|  6 |        66 |        33 |        62 |\n",
    "|  7 |        97 |        50 |        92 |\n",
    "|  8 |        21 |        71 |        42 |\n",
    "|  9 |        91 |        97 |        32 |"
   ]
  },
  {
   "cell_type": "code",
   "execution_count": 55,
   "metadata": {
    "ExecuteTime": {
     "end_time": "2020-10-29T00:24:32.249504Z",
     "start_time": "2020-10-29T00:24:32.235633Z"
    },
    "colab": {},
    "colab_type": "code",
    "id": "4VaCdj95Oak9"
   },
   "outputs": [
    {
     "data": {
      "text/html": [
       "<div>\n",
       "<style scoped>\n",
       "    .dataframe tbody tr th:only-of-type {\n",
       "        vertical-align: middle;\n",
       "    }\n",
       "\n",
       "    .dataframe tbody tr th {\n",
       "        vertical-align: top;\n",
       "    }\n",
       "\n",
       "    .dataframe thead th {\n",
       "        text-align: right;\n",
       "    }\n",
       "</style>\n",
       "<table border=\"1\" class=\"dataframe\">\n",
       "  <thead>\n",
       "    <tr style=\"text-align: right;\">\n",
       "      <th></th>\n",
       "      <th>column1</th>\n",
       "      <th>column2</th>\n",
       "      <th>column3</th>\n",
       "    </tr>\n",
       "  </thead>\n",
       "  <tbody>\n",
       "    <tr>\n",
       "      <th>0</th>\n",
       "      <td>80</td>\n",
       "      <td>1</td>\n",
       "      <td>81</td>\n",
       "    </tr>\n",
       "    <tr>\n",
       "      <th>1</th>\n",
       "      <td>10</td>\n",
       "      <td>69</td>\n",
       "      <td>77</td>\n",
       "    </tr>\n",
       "    <tr>\n",
       "      <th>2</th>\n",
       "      <td>38</td>\n",
       "      <td>59</td>\n",
       "      <td>33</td>\n",
       "    </tr>\n",
       "    <tr>\n",
       "      <th>3</th>\n",
       "      <td>56</td>\n",
       "      <td>92</td>\n",
       "      <td>98</td>\n",
       "    </tr>\n",
       "    <tr>\n",
       "      <th>4</th>\n",
       "      <td>67</td>\n",
       "      <td>30</td>\n",
       "      <td>74</td>\n",
       "    </tr>\n",
       "    <tr>\n",
       "      <th>5</th>\n",
       "      <td>58</td>\n",
       "      <td>94</td>\n",
       "      <td>92</td>\n",
       "    </tr>\n",
       "    <tr>\n",
       "      <th>6</th>\n",
       "      <td>41</td>\n",
       "      <td>47</td>\n",
       "      <td>34</td>\n",
       "    </tr>\n",
       "    <tr>\n",
       "      <th>7</th>\n",
       "      <td>1</td>\n",
       "      <td>63</td>\n",
       "      <td>63</td>\n",
       "    </tr>\n",
       "    <tr>\n",
       "      <th>8</th>\n",
       "      <td>96</td>\n",
       "      <td>58</td>\n",
       "      <td>13</td>\n",
       "    </tr>\n",
       "    <tr>\n",
       "      <th>9</th>\n",
       "      <td>92</td>\n",
       "      <td>30</td>\n",
       "      <td>6</td>\n",
       "    </tr>\n",
       "  </tbody>\n",
       "</table>\n",
       "</div>"
      ],
      "text/plain": [
       "   column1  column2  column3\n",
       "0       80        1       81\n",
       "1       10       69       77\n",
       "2       38       59       33\n",
       "3       56       92       98\n",
       "4       67       30       74\n",
       "5       58       94       92\n",
       "6       41       47       34\n",
       "7        1       63       63\n",
       "8       96       58       13\n",
       "9       92       30        6"
      ]
     },
     "execution_count": 55,
     "metadata": {},
     "output_type": "execute_result"
    }
   ],
   "source": [
    "# your code here\n",
    "pd.DataFrame(data=np.random.randint(0, 100, size=(10,3)), columns=[\"column1\", \"column2\", \"column3\"])"
   ]
  },
  {
   "cell_type": "markdown",
   "metadata": {
    "colab_type": "text",
    "id": "t7SMOQNkOalA"
   },
   "source": [
    "#### 3 Create a random dataframe containing N columns and M rows with specific column names.\n",
    "\n",
    "For this task you'll have to name the columns as `['column1', 'column2', 'column3', ...,'columnN']`. You can use a list comprehension to do that."
   ]
  },
  {
   "cell_type": "code",
   "execution_count": 61,
   "metadata": {
    "ExecuteTime": {
     "end_time": "2020-10-29T00:30:10.093785Z",
     "start_time": "2020-10-29T00:30:10.062107Z"
    },
    "colab": {},
    "colab_type": "code",
    "id": "y6o68u5HOalB"
   },
   "outputs": [
    {
     "data": {
      "text/html": [
       "<div>\n",
       "<style scoped>\n",
       "    .dataframe tbody tr th:only-of-type {\n",
       "        vertical-align: middle;\n",
       "    }\n",
       "\n",
       "    .dataframe tbody tr th {\n",
       "        vertical-align: top;\n",
       "    }\n",
       "\n",
       "    .dataframe thead th {\n",
       "        text-align: right;\n",
       "    }\n",
       "</style>\n",
       "<table border=\"1\" class=\"dataframe\">\n",
       "  <thead>\n",
       "    <tr style=\"text-align: right;\">\n",
       "      <th></th>\n",
       "      <th>column1</th>\n",
       "      <th>column2</th>\n",
       "      <th>column3</th>\n",
       "      <th>column4</th>\n",
       "      <th>column5</th>\n",
       "      <th>column6</th>\n",
       "      <th>column7</th>\n",
       "      <th>column8</th>\n",
       "      <th>column9</th>\n",
       "      <th>column10</th>\n",
       "    </tr>\n",
       "  </thead>\n",
       "  <tbody>\n",
       "    <tr>\n",
       "      <th>0</th>\n",
       "      <td>0.119516</td>\n",
       "      <td>0.010595</td>\n",
       "      <td>0.960866</td>\n",
       "      <td>0.643733</td>\n",
       "      <td>0.301828</td>\n",
       "      <td>0.366104</td>\n",
       "      <td>0.324397</td>\n",
       "      <td>0.946483</td>\n",
       "      <td>0.173094</td>\n",
       "      <td>0.474646</td>\n",
       "    </tr>\n",
       "    <tr>\n",
       "      <th>1</th>\n",
       "      <td>0.150396</td>\n",
       "      <td>0.287647</td>\n",
       "      <td>0.815900</td>\n",
       "      <td>0.492834</td>\n",
       "      <td>0.013599</td>\n",
       "      <td>0.615971</td>\n",
       "      <td>0.762567</td>\n",
       "      <td>0.460660</td>\n",
       "      <td>0.754533</td>\n",
       "      <td>0.042053</td>\n",
       "    </tr>\n",
       "    <tr>\n",
       "      <th>2</th>\n",
       "      <td>0.589098</td>\n",
       "      <td>0.380333</td>\n",
       "      <td>0.969372</td>\n",
       "      <td>0.841198</td>\n",
       "      <td>0.206689</td>\n",
       "      <td>0.103760</td>\n",
       "      <td>0.853370</td>\n",
       "      <td>0.241069</td>\n",
       "      <td>0.935001</td>\n",
       "      <td>0.062995</td>\n",
       "    </tr>\n",
       "    <tr>\n",
       "      <th>3</th>\n",
       "      <td>0.692506</td>\n",
       "      <td>0.348286</td>\n",
       "      <td>0.883912</td>\n",
       "      <td>0.449326</td>\n",
       "      <td>0.777470</td>\n",
       "      <td>0.947510</td>\n",
       "      <td>0.579530</td>\n",
       "      <td>0.439133</td>\n",
       "      <td>0.679350</td>\n",
       "      <td>0.358807</td>\n",
       "    </tr>\n",
       "    <tr>\n",
       "      <th>4</th>\n",
       "      <td>0.380349</td>\n",
       "      <td>0.796600</td>\n",
       "      <td>0.056708</td>\n",
       "      <td>0.379006</td>\n",
       "      <td>0.014998</td>\n",
       "      <td>0.726559</td>\n",
       "      <td>0.331401</td>\n",
       "      <td>0.236828</td>\n",
       "      <td>0.141116</td>\n",
       "      <td>0.832248</td>\n",
       "    </tr>\n",
       "    <tr>\n",
       "      <th>5</th>\n",
       "      <td>0.244210</td>\n",
       "      <td>0.358357</td>\n",
       "      <td>0.554715</td>\n",
       "      <td>0.516398</td>\n",
       "      <td>0.526383</td>\n",
       "      <td>0.452841</td>\n",
       "      <td>0.395694</td>\n",
       "      <td>0.164954</td>\n",
       "      <td>0.504849</td>\n",
       "      <td>0.019068</td>\n",
       "    </tr>\n",
       "    <tr>\n",
       "      <th>6</th>\n",
       "      <td>0.720934</td>\n",
       "      <td>0.382418</td>\n",
       "      <td>0.617091</td>\n",
       "      <td>0.521465</td>\n",
       "      <td>0.507079</td>\n",
       "      <td>0.376992</td>\n",
       "      <td>0.061541</td>\n",
       "      <td>0.090908</td>\n",
       "      <td>0.274547</td>\n",
       "      <td>0.101010</td>\n",
       "    </tr>\n",
       "    <tr>\n",
       "      <th>7</th>\n",
       "      <td>0.099752</td>\n",
       "      <td>0.859158</td>\n",
       "      <td>0.942628</td>\n",
       "      <td>0.322665</td>\n",
       "      <td>0.954586</td>\n",
       "      <td>0.631002</td>\n",
       "      <td>0.887514</td>\n",
       "      <td>0.768113</td>\n",
       "      <td>0.256573</td>\n",
       "      <td>0.836883</td>\n",
       "    </tr>\n",
       "    <tr>\n",
       "      <th>8</th>\n",
       "      <td>0.525733</td>\n",
       "      <td>0.157074</td>\n",
       "      <td>0.884611</td>\n",
       "      <td>0.367228</td>\n",
       "      <td>0.451935</td>\n",
       "      <td>0.974649</td>\n",
       "      <td>0.064430</td>\n",
       "      <td>0.266873</td>\n",
       "      <td>0.613220</td>\n",
       "      <td>0.507451</td>\n",
       "    </tr>\n",
       "    <tr>\n",
       "      <th>9</th>\n",
       "      <td>0.019866</td>\n",
       "      <td>0.075583</td>\n",
       "      <td>0.146908</td>\n",
       "      <td>0.670703</td>\n",
       "      <td>0.710296</td>\n",
       "      <td>0.768182</td>\n",
       "      <td>0.398440</td>\n",
       "      <td>0.501242</td>\n",
       "      <td>0.718358</td>\n",
       "      <td>0.420253</td>\n",
       "    </tr>\n",
       "    <tr>\n",
       "      <th>10</th>\n",
       "      <td>0.818143</td>\n",
       "      <td>0.786246</td>\n",
       "      <td>0.458516</td>\n",
       "      <td>0.768434</td>\n",
       "      <td>0.149453</td>\n",
       "      <td>0.054833</td>\n",
       "      <td>0.789933</td>\n",
       "      <td>0.190342</td>\n",
       "      <td>0.014387</td>\n",
       "      <td>0.069686</td>\n",
       "    </tr>\n",
       "    <tr>\n",
       "      <th>11</th>\n",
       "      <td>0.565882</td>\n",
       "      <td>0.428189</td>\n",
       "      <td>0.037336</td>\n",
       "      <td>0.174138</td>\n",
       "      <td>0.681881</td>\n",
       "      <td>0.188704</td>\n",
       "      <td>0.854775</td>\n",
       "      <td>0.167976</td>\n",
       "      <td>0.610595</td>\n",
       "      <td>0.627511</td>\n",
       "    </tr>\n",
       "    <tr>\n",
       "      <th>12</th>\n",
       "      <td>0.208883</td>\n",
       "      <td>0.434241</td>\n",
       "      <td>0.144476</td>\n",
       "      <td>0.819459</td>\n",
       "      <td>0.875680</td>\n",
       "      <td>0.606152</td>\n",
       "      <td>0.028992</td>\n",
       "      <td>0.776884</td>\n",
       "      <td>0.847812</td>\n",
       "      <td>0.331639</td>\n",
       "    </tr>\n",
       "    <tr>\n",
       "      <th>13</th>\n",
       "      <td>0.540420</td>\n",
       "      <td>0.203133</td>\n",
       "      <td>0.602107</td>\n",
       "      <td>0.522011</td>\n",
       "      <td>0.020929</td>\n",
       "      <td>0.242230</td>\n",
       "      <td>0.021047</td>\n",
       "      <td>0.332719</td>\n",
       "      <td>0.513870</td>\n",
       "      <td>0.300689</td>\n",
       "    </tr>\n",
       "    <tr>\n",
       "      <th>14</th>\n",
       "      <td>0.365562</td>\n",
       "      <td>0.800185</td>\n",
       "      <td>0.236269</td>\n",
       "      <td>0.786518</td>\n",
       "      <td>0.868942</td>\n",
       "      <td>0.623667</td>\n",
       "      <td>0.441536</td>\n",
       "      <td>0.052146</td>\n",
       "      <td>0.447703</td>\n",
       "      <td>0.686991</td>\n",
       "    </tr>\n",
       "    <tr>\n",
       "      <th>15</th>\n",
       "      <td>0.336625</td>\n",
       "      <td>0.720137</td>\n",
       "      <td>0.954617</td>\n",
       "      <td>0.179725</td>\n",
       "      <td>0.321598</td>\n",
       "      <td>0.183611</td>\n",
       "      <td>0.888800</td>\n",
       "      <td>0.019610</td>\n",
       "      <td>0.463528</td>\n",
       "      <td>0.797772</td>\n",
       "    </tr>\n",
       "    <tr>\n",
       "      <th>16</th>\n",
       "      <td>0.733320</td>\n",
       "      <td>0.158033</td>\n",
       "      <td>0.294502</td>\n",
       "      <td>0.913359</td>\n",
       "      <td>0.712791</td>\n",
       "      <td>0.852115</td>\n",
       "      <td>0.583658</td>\n",
       "      <td>0.218364</td>\n",
       "      <td>0.117714</td>\n",
       "      <td>0.509984</td>\n",
       "    </tr>\n",
       "    <tr>\n",
       "      <th>17</th>\n",
       "      <td>0.339160</td>\n",
       "      <td>0.148363</td>\n",
       "      <td>0.684422</td>\n",
       "      <td>0.678736</td>\n",
       "      <td>0.340703</td>\n",
       "      <td>0.902276</td>\n",
       "      <td>0.689574</td>\n",
       "      <td>0.322367</td>\n",
       "      <td>0.051944</td>\n",
       "      <td>0.576174</td>\n",
       "    </tr>\n",
       "    <tr>\n",
       "      <th>18</th>\n",
       "      <td>0.283252</td>\n",
       "      <td>0.566238</td>\n",
       "      <td>0.810337</td>\n",
       "      <td>0.965682</td>\n",
       "      <td>0.630245</td>\n",
       "      <td>0.485031</td>\n",
       "      <td>0.466953</td>\n",
       "      <td>0.029952</td>\n",
       "      <td>0.898508</td>\n",
       "      <td>0.915242</td>\n",
       "    </tr>\n",
       "    <tr>\n",
       "      <th>19</th>\n",
       "      <td>0.914890</td>\n",
       "      <td>0.026824</td>\n",
       "      <td>0.983644</td>\n",
       "      <td>0.111104</td>\n",
       "      <td>0.533419</td>\n",
       "      <td>0.667952</td>\n",
       "      <td>0.187059</td>\n",
       "      <td>0.119952</td>\n",
       "      <td>0.207621</td>\n",
       "      <td>0.163390</td>\n",
       "    </tr>\n",
       "    <tr>\n",
       "      <th>20</th>\n",
       "      <td>0.541491</td>\n",
       "      <td>0.506049</td>\n",
       "      <td>0.006492</td>\n",
       "      <td>0.204016</td>\n",
       "      <td>0.259095</td>\n",
       "      <td>0.020647</td>\n",
       "      <td>0.067369</td>\n",
       "      <td>0.307620</td>\n",
       "      <td>0.827657</td>\n",
       "      <td>0.330031</td>\n",
       "    </tr>\n",
       "    <tr>\n",
       "      <th>21</th>\n",
       "      <td>0.472617</td>\n",
       "      <td>0.440589</td>\n",
       "      <td>0.793963</td>\n",
       "      <td>0.029526</td>\n",
       "      <td>0.303224</td>\n",
       "      <td>0.128703</td>\n",
       "      <td>0.391615</td>\n",
       "      <td>0.602577</td>\n",
       "      <td>0.852698</td>\n",
       "      <td>0.299510</td>\n",
       "    </tr>\n",
       "    <tr>\n",
       "      <th>22</th>\n",
       "      <td>0.344840</td>\n",
       "      <td>0.106776</td>\n",
       "      <td>0.948013</td>\n",
       "      <td>0.843506</td>\n",
       "      <td>0.165002</td>\n",
       "      <td>0.820443</td>\n",
       "      <td>0.689764</td>\n",
       "      <td>0.358724</td>\n",
       "      <td>0.227300</td>\n",
       "      <td>0.372063</td>\n",
       "    </tr>\n",
       "    <tr>\n",
       "      <th>23</th>\n",
       "      <td>0.735491</td>\n",
       "      <td>0.271690</td>\n",
       "      <td>0.959575</td>\n",
       "      <td>0.186487</td>\n",
       "      <td>0.990157</td>\n",
       "      <td>0.200024</td>\n",
       "      <td>0.001848</td>\n",
       "      <td>0.139680</td>\n",
       "      <td>0.351382</td>\n",
       "      <td>0.039863</td>\n",
       "    </tr>\n",
       "    <tr>\n",
       "      <th>24</th>\n",
       "      <td>0.956115</td>\n",
       "      <td>0.174577</td>\n",
       "      <td>0.231146</td>\n",
       "      <td>0.907374</td>\n",
       "      <td>0.210020</td>\n",
       "      <td>0.071440</td>\n",
       "      <td>0.630747</td>\n",
       "      <td>0.922839</td>\n",
       "      <td>0.333137</td>\n",
       "      <td>0.893422</td>\n",
       "    </tr>\n",
       "    <tr>\n",
       "      <th>25</th>\n",
       "      <td>0.075324</td>\n",
       "      <td>0.720630</td>\n",
       "      <td>0.313539</td>\n",
       "      <td>0.326110</td>\n",
       "      <td>0.068783</td>\n",
       "      <td>0.953030</td>\n",
       "      <td>0.011309</td>\n",
       "      <td>0.414067</td>\n",
       "      <td>0.967301</td>\n",
       "      <td>0.316907</td>\n",
       "    </tr>\n",
       "    <tr>\n",
       "      <th>26</th>\n",
       "      <td>0.287640</td>\n",
       "      <td>0.114382</td>\n",
       "      <td>0.925950</td>\n",
       "      <td>0.823544</td>\n",
       "      <td>0.903904</td>\n",
       "      <td>0.077035</td>\n",
       "      <td>0.830582</td>\n",
       "      <td>0.648637</td>\n",
       "      <td>0.907411</td>\n",
       "      <td>0.472019</td>\n",
       "    </tr>\n",
       "    <tr>\n",
       "      <th>27</th>\n",
       "      <td>0.180677</td>\n",
       "      <td>0.022708</td>\n",
       "      <td>0.158723</td>\n",
       "      <td>0.111092</td>\n",
       "      <td>0.257906</td>\n",
       "      <td>0.736329</td>\n",
       "      <td>0.460962</td>\n",
       "      <td>0.625703</td>\n",
       "      <td>0.048372</td>\n",
       "      <td>0.285757</td>\n",
       "    </tr>\n",
       "    <tr>\n",
       "      <th>28</th>\n",
       "      <td>0.223917</td>\n",
       "      <td>0.006261</td>\n",
       "      <td>0.933564</td>\n",
       "      <td>0.642930</td>\n",
       "      <td>0.471841</td>\n",
       "      <td>0.089559</td>\n",
       "      <td>0.062046</td>\n",
       "      <td>0.774697</td>\n",
       "      <td>0.379878</td>\n",
       "      <td>0.846787</td>\n",
       "    </tr>\n",
       "    <tr>\n",
       "      <th>29</th>\n",
       "      <td>0.360274</td>\n",
       "      <td>0.944996</td>\n",
       "      <td>0.000211</td>\n",
       "      <td>0.704385</td>\n",
       "      <td>0.337214</td>\n",
       "      <td>0.497150</td>\n",
       "      <td>0.760702</td>\n",
       "      <td>0.668959</td>\n",
       "      <td>0.074863</td>\n",
       "      <td>0.502352</td>\n",
       "    </tr>\n",
       "  </tbody>\n",
       "</table>\n",
       "</div>"
      ],
      "text/plain": [
       "     column1   column2   column3   column4   column5   column6   column7  \\\n",
       "0   0.119516  0.010595  0.960866  0.643733  0.301828  0.366104  0.324397   \n",
       "1   0.150396  0.287647  0.815900  0.492834  0.013599  0.615971  0.762567   \n",
       "2   0.589098  0.380333  0.969372  0.841198  0.206689  0.103760  0.853370   \n",
       "3   0.692506  0.348286  0.883912  0.449326  0.777470  0.947510  0.579530   \n",
       "4   0.380349  0.796600  0.056708  0.379006  0.014998  0.726559  0.331401   \n",
       "5   0.244210  0.358357  0.554715  0.516398  0.526383  0.452841  0.395694   \n",
       "6   0.720934  0.382418  0.617091  0.521465  0.507079  0.376992  0.061541   \n",
       "7   0.099752  0.859158  0.942628  0.322665  0.954586  0.631002  0.887514   \n",
       "8   0.525733  0.157074  0.884611  0.367228  0.451935  0.974649  0.064430   \n",
       "9   0.019866  0.075583  0.146908  0.670703  0.710296  0.768182  0.398440   \n",
       "10  0.818143  0.786246  0.458516  0.768434  0.149453  0.054833  0.789933   \n",
       "11  0.565882  0.428189  0.037336  0.174138  0.681881  0.188704  0.854775   \n",
       "12  0.208883  0.434241  0.144476  0.819459  0.875680  0.606152  0.028992   \n",
       "13  0.540420  0.203133  0.602107  0.522011  0.020929  0.242230  0.021047   \n",
       "14  0.365562  0.800185  0.236269  0.786518  0.868942  0.623667  0.441536   \n",
       "15  0.336625  0.720137  0.954617  0.179725  0.321598  0.183611  0.888800   \n",
       "16  0.733320  0.158033  0.294502  0.913359  0.712791  0.852115  0.583658   \n",
       "17  0.339160  0.148363  0.684422  0.678736  0.340703  0.902276  0.689574   \n",
       "18  0.283252  0.566238  0.810337  0.965682  0.630245  0.485031  0.466953   \n",
       "19  0.914890  0.026824  0.983644  0.111104  0.533419  0.667952  0.187059   \n",
       "20  0.541491  0.506049  0.006492  0.204016  0.259095  0.020647  0.067369   \n",
       "21  0.472617  0.440589  0.793963  0.029526  0.303224  0.128703  0.391615   \n",
       "22  0.344840  0.106776  0.948013  0.843506  0.165002  0.820443  0.689764   \n",
       "23  0.735491  0.271690  0.959575  0.186487  0.990157  0.200024  0.001848   \n",
       "24  0.956115  0.174577  0.231146  0.907374  0.210020  0.071440  0.630747   \n",
       "25  0.075324  0.720630  0.313539  0.326110  0.068783  0.953030  0.011309   \n",
       "26  0.287640  0.114382  0.925950  0.823544  0.903904  0.077035  0.830582   \n",
       "27  0.180677  0.022708  0.158723  0.111092  0.257906  0.736329  0.460962   \n",
       "28  0.223917  0.006261  0.933564  0.642930  0.471841  0.089559  0.062046   \n",
       "29  0.360274  0.944996  0.000211  0.704385  0.337214  0.497150  0.760702   \n",
       "\n",
       "     column8   column9  column10  \n",
       "0   0.946483  0.173094  0.474646  \n",
       "1   0.460660  0.754533  0.042053  \n",
       "2   0.241069  0.935001  0.062995  \n",
       "3   0.439133  0.679350  0.358807  \n",
       "4   0.236828  0.141116  0.832248  \n",
       "5   0.164954  0.504849  0.019068  \n",
       "6   0.090908  0.274547  0.101010  \n",
       "7   0.768113  0.256573  0.836883  \n",
       "8   0.266873  0.613220  0.507451  \n",
       "9   0.501242  0.718358  0.420253  \n",
       "10  0.190342  0.014387  0.069686  \n",
       "11  0.167976  0.610595  0.627511  \n",
       "12  0.776884  0.847812  0.331639  \n",
       "13  0.332719  0.513870  0.300689  \n",
       "14  0.052146  0.447703  0.686991  \n",
       "15  0.019610  0.463528  0.797772  \n",
       "16  0.218364  0.117714  0.509984  \n",
       "17  0.322367  0.051944  0.576174  \n",
       "18  0.029952  0.898508  0.915242  \n",
       "19  0.119952  0.207621  0.163390  \n",
       "20  0.307620  0.827657  0.330031  \n",
       "21  0.602577  0.852698  0.299510  \n",
       "22  0.358724  0.227300  0.372063  \n",
       "23  0.139680  0.351382  0.039863  \n",
       "24  0.922839  0.333137  0.893422  \n",
       "25  0.414067  0.967301  0.316907  \n",
       "26  0.648637  0.907411  0.472019  \n",
       "27  0.625703  0.048372  0.285757  \n",
       "28  0.774697  0.379878  0.846787  \n",
       "29  0.668959  0.074863  0.502352  "
      ]
     },
     "execution_count": 61,
     "metadata": {},
     "output_type": "execute_result"
    }
   ],
   "source": [
    "N = 10\n",
    "M = 30\n",
    "\n",
    "# your code here\n",
    "pd.DataFrame(data=np.random.random(size=(M, N)), columns=[f\"column{i}\" for i in range(1, N+1)])\n",
    "# pd.DataFrame(data=np.random.random(size=(M, N)), columns=[\"column\"+str(i) for i in range(1, N+1)])"
   ]
  },
  {
   "cell_type": "code",
   "execution_count": null,
   "metadata": {},
   "outputs": [],
   "source": []
  }
 ],
 "metadata": {
  "colab": {
   "collapsed_sections": [],
   "name": "main.ipynb",
   "provenance": []
  },
  "hide_input": false,
  "kernelspec": {
   "display_name": "Python 3",
   "language": "python",
   "name": "python3"
  },
  "language_info": {
   "codemirror_mode": {
    "name": "ipython",
    "version": 3
   },
   "file_extension": ".py",
   "mimetype": "text/x-python",
   "name": "python",
   "nbconvert_exporter": "python",
   "pygments_lexer": "ipython3",
   "version": "3.8.2"
  },
  "toc": {
   "base_numbering": 1,
   "nav_menu": {},
   "number_sections": true,
   "sideBar": true,
   "skip_h1_title": false,
   "title_cell": "Table of Contents",
   "title_sidebar": "Contents",
   "toc_cell": false,
   "toc_position": {},
   "toc_section_display": true,
   "toc_window_display": false
  },
  "varInspector": {
   "cols": {
    "lenName": 16,
    "lenType": 16,
    "lenVar": 40
   },
   "kernels_config": {
    "python": {
     "delete_cmd_postfix": "",
     "delete_cmd_prefix": "del ",
     "library": "var_list.py",
     "varRefreshCmd": "print(var_dic_list())"
    },
    "r": {
     "delete_cmd_postfix": ") ",
     "delete_cmd_prefix": "rm(",
     "library": "var_list.r",
     "varRefreshCmd": "cat(var_dic_list()) "
    }
   },
   "types_to_exclude": [
    "module",
    "function",
    "builtin_function_or_method",
    "instance",
    "_Feature"
   ],
   "window_display": false
  }
 },
 "nbformat": 4,
 "nbformat_minor": 1
}
