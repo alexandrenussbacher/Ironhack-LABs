{
 "cells": [
  {
   "cell_type": "markdown",
   "metadata": {
    "colab_type": "text",
    "id": "mN9kpE7hMEP-"
   },
   "source": [
    "![Ironhack logo](https://i.imgur.com/1QgrNNw.png)\n",
    "\n",
    "# Lab | Numpy\n",
    "\n",
    "## Introduction\n",
    "\n",
    "An important ability of a data scientist/data engineer is to know where and how to find information that helps you to accomplish your work. In the exercise, you will both practice the Numpy features we discussed in the lesson and learn new features by looking up documentations and references. You will work on your own but remember the teaching staff is at your service whenever you encounter problems.\n",
    "\n",
    "## Getting Started\n",
    "There are a bunch of comments which instruct what you are supposed to do step by step. Follow the order of the instructions from top to bottom. Read each instruction carefully and provide your answer beneath it. You should also test your answers to make sure your responses are correct. If one of your responses is incorrect, you may not be able to proceed because later responses may depend upon previous responses.\n",
    "\n",
    "\n",
    "## Resources\n",
    "\n",
    "Some of the questions in the assignment are not covered in our lesson. You will learn how to efficiently look up the information on your own. Below are some resources you can find the information you need.\n",
    "\n",
    "[Numpy User Guide](https://docs.scipy.org/doc/numpy/user/index.html)\n",
    "\n",
    "[Numpy Reference](https://docs.scipy.org/doc/numpy/reference/)\n",
    "\n",
    "[Google Search](https://www.google.com/search?q=how+to+use+numpy)\n",
    "\n"
   ]
  },
  {
   "cell_type": "markdown",
   "metadata": {
    "colab_type": "text",
    "id": "-we_8UVrwCc1"
   },
   "source": [
    "# Intrduction to NumPy\n",
    "\n",
    "\n",
    "#### 1. Import NumPy under the name np."
   ]
  },
  {
   "cell_type": "code",
   "execution_count": 17,
   "metadata": {
    "ExecuteTime": {
     "end_time": "2020-10-29T00:36:27.543186Z",
     "start_time": "2020-10-29T00:36:27.539699Z"
    },
    "colab": {},
    "colab_type": "code",
    "id": "3fRJ8mtHwCc5"
   },
   "outputs": [],
   "source": [
    "# your code here\n",
    "import numpy as np"
   ]
  },
  {
   "cell_type": "markdown",
   "metadata": {
    "colab_type": "text",
    "id": "8Xtbl_EvwCc9"
   },
   "source": [
    "#### 2. Print your NumPy version."
   ]
  },
  {
   "cell_type": "code",
   "execution_count": 5,
   "metadata": {
    "ExecuteTime": {
     "end_time": "2020-10-26T21:39:51.043324Z",
     "start_time": "2020-10-26T21:39:51.035011Z"
    },
    "colab": {},
    "colab_type": "code",
    "id": "BlegxuJVwCc-"
   },
   "outputs": [
    {
     "data": {
      "text/plain": [
       "'1.19.1'"
      ]
     },
     "execution_count": 5,
     "metadata": {},
     "output_type": "execute_result"
    }
   ],
   "source": [
    "# your code here\n",
    "np.__version__"
   ]
  },
  {
   "cell_type": "markdown",
   "metadata": {
    "colab_type": "text",
    "id": "FpKgyatowCdC"
   },
   "source": [
    "#### 3. Generate a 3x2x5 3-dimensional array with random values. Assign the array to variable *a*.\n",
    "**Challenge**: there are at least three easy ways that use numpy to generate random arrays. How many ways can you find?\n",
    "\n",
    "**Example of output**:\n",
    "````python\n",
    "[[[0.29932768, 0.85812686, 0.75266145, 0.09278988, 0.78358352],\n",
    "  [0.13437453, 0.65695946, 0.82047594, 0.09764179, 0.52230096]],\n",
    " \n",
    " [[0.54248247, 0.06431281, 0.65902257, 0.92736679, 0.3302839 ],\n",
    "  [0.86867236, 0.33960592, 0.62295821, 0.74563567, 0.24351584]],\n",
    " \n",
    " [[0.21276812, 0.06917533, 0.35106591, 0.82273425, 0.7910178 ],\n",
    "  [0.37768961, 0.56107736, 0.99965953, 0.97615549, 0.2445537 ]]]\n",
    "````"
   ]
  },
  {
   "cell_type": "code",
   "execution_count": 9,
   "metadata": {
    "ExecuteTime": {
     "end_time": "2020-10-26T21:42:03.847516Z",
     "start_time": "2020-10-26T21:42:03.842947Z"
    },
    "colab": {},
    "colab_type": "code",
    "id": "609Z4Zn3wCdD"
   },
   "outputs": [],
   "source": [
    "# Method 1\n",
    "a=np.random.random((3,2,5))"
   ]
  },
  {
   "cell_type": "code",
   "execution_count": 0,
   "metadata": {
    "colab": {},
    "colab_type": "code",
    "id": "q6dKJNO4wCdH"
   },
   "outputs": [],
   "source": [
    "# Method 2"
   ]
  },
  {
   "cell_type": "code",
   "execution_count": 0,
   "metadata": {
    "colab": {},
    "colab_type": "code",
    "id": "xILn36GWwCdK"
   },
   "outputs": [],
   "source": [
    "# Method 3"
   ]
  },
  {
   "cell_type": "markdown",
   "metadata": {
    "colab_type": "text",
    "id": "aMHxBSCDwCdP"
   },
   "source": [
    "#### 4. Print *a*.\n"
   ]
  },
  {
   "cell_type": "code",
   "execution_count": 10,
   "metadata": {
    "ExecuteTime": {
     "end_time": "2020-10-26T21:42:05.620904Z",
     "start_time": "2020-10-26T21:42:05.613059Z"
    },
    "colab": {},
    "colab_type": "code",
    "id": "N_NYL3pHwCdQ"
   },
   "outputs": [
    {
     "name": "stdout",
     "output_type": "stream",
     "text": [
      "[[[0.21123934 0.71899323 0.57208496 0.53313291 0.51651036]\n",
      "  [0.32057688 0.22738824 0.62303686 0.42539173 0.94088342]]\n",
      "\n",
      " [[0.69688516 0.91828465 0.64198118 0.23574665 0.39037952]\n",
      "  [0.4576017  0.29553443 0.22150482 0.30698087 0.86715478]]\n",
      "\n",
      " [[0.88724792 0.13811776 0.37339351 0.64886033 0.47261009]\n",
      "  [0.43900204 0.88293231 0.21730322 0.15846992 0.48131618]]]\n"
     ]
    }
   ],
   "source": [
    "# your code here\n",
    "print(a)"
   ]
  },
  {
   "cell_type": "markdown",
   "metadata": {
    "colab_type": "text",
    "id": "kws-mAPSwCdU"
   },
   "source": [
    "#### 5. Create a 5x2x3 3-dimensional array with all values equaling 1. Assign the array to variable *b*."
   ]
  },
  {
   "cell_type": "markdown",
   "metadata": {
    "colab_type": "text",
    "id": "SMAUJKLwJS-8"
   },
   "source": [
    "Expected output:\n",
    "\n",
    "````python\n",
    "      [[[1, 1, 1],\n",
    "        [1, 1, 1]],\n",
    "\n",
    "       [[1, 1, 1],\n",
    "        [1, 1, 1]],\n",
    "\n",
    "       [[1, 1, 1],\n",
    "        [1, 1, 1]],\n",
    "\n",
    "       [[1, 1, 1],\n",
    "        [1, 1, 1]],\n",
    "\n",
    "       [[1, 1, 1],\n",
    "        [1, 1, 1]]]\n",
    "````"
   ]
  },
  {
   "cell_type": "code",
   "execution_count": 14,
   "metadata": {
    "ExecuteTime": {
     "end_time": "2020-10-26T21:44:02.271257Z",
     "start_time": "2020-10-26T21:44:02.267278Z"
    },
    "colab": {},
    "colab_type": "code",
    "id": "anCmbtrtwCdW"
   },
   "outputs": [],
   "source": [
    "# your code here\n",
    "b=np.random.randint(1, 2, size=(5,2,3))"
   ]
  },
  {
   "cell_type": "markdown",
   "metadata": {
    "colab_type": "text",
    "id": "FsYdwPxPwCdZ"
   },
   "source": [
    "#### 6. Print *b*.\n"
   ]
  },
  {
   "cell_type": "code",
   "execution_count": 15,
   "metadata": {
    "ExecuteTime": {
     "end_time": "2020-10-26T21:44:03.599038Z",
     "start_time": "2020-10-26T21:44:03.593133Z"
    },
    "colab": {},
    "colab_type": "code",
    "id": "Y3rcPurpwCda"
   },
   "outputs": [
    {
     "name": "stdout",
     "output_type": "stream",
     "text": [
      "[[[1 1 1]\n",
      "  [1 1 1]]\n",
      "\n",
      " [[1 1 1]\n",
      "  [1 1 1]]\n",
      "\n",
      " [[1 1 1]\n",
      "  [1 1 1]]\n",
      "\n",
      " [[1 1 1]\n",
      "  [1 1 1]]\n",
      "\n",
      " [[1 1 1]\n",
      "  [1 1 1]]]\n"
     ]
    }
   ],
   "source": [
    "# your code here\n",
    "print(b)"
   ]
  },
  {
   "cell_type": "markdown",
   "metadata": {
    "colab_type": "text",
    "id": "hGblsnk5wCde"
   },
   "source": [
    "#### 7. Do *a* and *b* have the same size? How do you prove that in Python code?"
   ]
  },
  {
   "cell_type": "code",
   "execution_count": 18,
   "metadata": {
    "ExecuteTime": {
     "end_time": "2020-10-29T00:36:38.886206Z",
     "start_time": "2020-10-29T00:36:38.879023Z"
    },
    "colab": {},
    "colab_type": "code",
    "id": "YmKeIpGWwCdf"
   },
   "outputs": [
    {
     "data": {
      "text/plain": [
       "False"
      ]
     },
     "execution_count": 18,
     "metadata": {},
     "output_type": "execute_result"
    }
   ],
   "source": [
    "# your code here\n",
    "a.shape==b.shape"
   ]
  },
  {
   "cell_type": "markdown",
   "metadata": {
    "colab_type": "text",
    "id": "o9UzXk9IwCdi"
   },
   "source": [
    "#### 8. Are you able to add *a* and *b*? Why or why not?\n"
   ]
  },
  {
   "cell_type": "code",
   "execution_count": 19,
   "metadata": {
    "ExecuteTime": {
     "end_time": "2020-10-29T00:37:01.055799Z",
     "start_time": "2020-10-29T00:37:01.049590Z"
    },
    "colab": {},
    "colab_type": "code",
    "id": "drdAyKPywCdj"
   },
   "outputs": [],
   "source": [
    "# your answer here\n",
    "# Não é possível somar matrizes de ordens diferentes!"
   ]
  },
  {
   "cell_type": "markdown",
   "metadata": {
    "colab_type": "text",
    "id": "DTsSOpvYwCdm"
   },
   "source": [
    "#### 9. Reshape *b* so that it has the same structure of *a* (i.e. become a 3x2x5 array). Assign the reshaped array to variable *c*.\n",
    "\n",
    "Expected output:\n",
    "\n",
    "````python\n",
    "      [[[1, 1, 1, 1, 1],\n",
    "        [1, 1, 1, 1, 1]],\n",
    "\n",
    "       [[1, 1, 1, 1, 1],\n",
    "        [1, 1, 1, 1, 1]],\n",
    "\n",
    "       [[1, 1, 1, 1, 1],\n",
    "        [1, 1, 1, 1, 1]]]\n",
    "````"
   ]
  },
  {
   "cell_type": "code",
   "execution_count": 22,
   "metadata": {
    "ExecuteTime": {
     "end_time": "2020-10-29T00:37:50.276065Z",
     "start_time": "2020-10-29T00:37:50.267382Z"
    },
    "colab": {},
    "colab_type": "code",
    "id": "DjLlRJUtwCdn"
   },
   "outputs": [
    {
     "data": {
      "text/plain": [
       "array([[[1, 1, 1, 1, 1],\n",
       "        [1, 1, 1, 1, 1]],\n",
       "\n",
       "       [[1, 1, 1, 1, 1],\n",
       "        [1, 1, 1, 1, 1]],\n",
       "\n",
       "       [[1, 1, 1, 1, 1],\n",
       "        [1, 1, 1, 1, 1]]])"
      ]
     },
     "execution_count": 22,
     "metadata": {},
     "output_type": "execute_result"
    }
   ],
   "source": [
    "# your code here\n",
    "c=b.reshape(3, 2, 5)\n",
    "c"
   ]
  },
  {
   "cell_type": "markdown",
   "metadata": {
    "colab_type": "text",
    "id": "fvHocQ9EwCdq"
   },
   "source": [
    "#### 10. Try to add *a* and *c*. Now it should work. Assign the sum to variable *d*. But why does it work now?"
   ]
  },
  {
   "cell_type": "code",
   "execution_count": 24,
   "metadata": {
    "ExecuteTime": {
     "end_time": "2020-10-29T00:38:13.182212Z",
     "start_time": "2020-10-29T00:38:13.176732Z"
    },
    "colab": {},
    "colab_type": "code",
    "id": "Ohf5yh5ZwCdr"
   },
   "outputs": [
    {
     "name": "stdout",
     "output_type": "stream",
     "text": [
      "[[[1.21123934 1.71899323 1.57208496 1.53313291 1.51651036]\n",
      "  [1.32057688 1.22738824 1.62303686 1.42539173 1.94088342]]\n",
      "\n",
      " [[1.69688516 1.91828465 1.64198118 1.23574665 1.39037952]\n",
      "  [1.4576017  1.29553443 1.22150482 1.30698087 1.86715478]]\n",
      "\n",
      " [[1.88724792 1.13811776 1.37339351 1.64886033 1.47261009]\n",
      "  [1.43900204 1.88293231 1.21730322 1.15846992 1.48131618]]]\n"
     ]
    }
   ],
   "source": [
    "# your code/answer here\n",
    "d=a+c\n",
    "print(d)\n",
    "# Matrizes de mesma ordem podem ser somadas!"
   ]
  },
  {
   "cell_type": "markdown",
   "metadata": {
    "colab_type": "text",
    "id": "DuQBMzQBwCdw"
   },
   "source": [
    "#### 11. Print *a* and *d*. Notice the difference and relation of the two array in terms of the values? Explain."
   ]
  },
  {
   "cell_type": "code",
   "execution_count": 26,
   "metadata": {
    "ExecuteTime": {
     "end_time": "2020-10-29T00:39:06.695971Z",
     "start_time": "2020-10-29T00:39:06.687670Z"
    },
    "colab": {},
    "colab_type": "code",
    "id": "gEuh7iv1wCdx"
   },
   "outputs": [
    {
     "name": "stdout",
     "output_type": "stream",
     "text": [
      "[[[0.21123934 0.71899323 0.57208496 0.53313291 0.51651036]\n",
      "  [0.32057688 0.22738824 0.62303686 0.42539173 0.94088342]]\n",
      "\n",
      " [[0.69688516 0.91828465 0.64198118 0.23574665 0.39037952]\n",
      "  [0.4576017  0.29553443 0.22150482 0.30698087 0.86715478]]\n",
      "\n",
      " [[0.88724792 0.13811776 0.37339351 0.64886033 0.47261009]\n",
      "  [0.43900204 0.88293231 0.21730322 0.15846992 0.48131618]]]\n",
      "\n",
      "\n",
      "\n",
      "[[[1.21123934 1.71899323 1.57208496 1.53313291 1.51651036]\n",
      "  [1.32057688 1.22738824 1.62303686 1.42539173 1.94088342]]\n",
      "\n",
      " [[1.69688516 1.91828465 1.64198118 1.23574665 1.39037952]\n",
      "  [1.4576017  1.29553443 1.22150482 1.30698087 1.86715478]]\n",
      "\n",
      " [[1.88724792 1.13811776 1.37339351 1.64886033 1.47261009]\n",
      "  [1.43900204 1.88293231 1.21730322 1.15846992 1.48131618]]]\n"
     ]
    }
   ],
   "source": [
    "# your code/answer here\n",
    "print(a)\n",
    "print(\"\\n\\n\")\n",
    "print(d)\n",
    "\n",
    "# Cada elemento da matriz d equivale a soma de 1 com o respectivo elemento da matriz a."
   ]
  },
  {
   "cell_type": "markdown",
   "metadata": {
    "colab_type": "text",
    "id": "Ka1popJ3wCd0"
   },
   "source": [
    "#### 12. Multiply *a* and *c*. Assign the result to *e*."
   ]
  },
  {
   "cell_type": "code",
   "execution_count": 27,
   "metadata": {
    "ExecuteTime": {
     "end_time": "2020-10-29T00:39:21.925575Z",
     "start_time": "2020-10-29T00:39:21.917523Z"
    },
    "colab": {},
    "colab_type": "code",
    "id": "hLeCMiSEwCd1"
   },
   "outputs": [
    {
     "name": "stdout",
     "output_type": "stream",
     "text": [
      "[[[0.21123934 0.71899323 0.57208496 0.53313291 0.51651036]\n",
      "  [0.32057688 0.22738824 0.62303686 0.42539173 0.94088342]]\n",
      "\n",
      " [[0.69688516 0.91828465 0.64198118 0.23574665 0.39037952]\n",
      "  [0.4576017  0.29553443 0.22150482 0.30698087 0.86715478]]\n",
      "\n",
      " [[0.88724792 0.13811776 0.37339351 0.64886033 0.47261009]\n",
      "  [0.43900204 0.88293231 0.21730322 0.15846992 0.48131618]]]\n"
     ]
    }
   ],
   "source": [
    "# your code here\n",
    "e=a*c\n",
    "print(e)"
   ]
  },
  {
   "cell_type": "markdown",
   "metadata": {
    "colab_type": "text",
    "id": "1QCqP6lMwCd5"
   },
   "source": [
    "#### 13. Does *e* equal to *a*? Why or why not?\n"
   ]
  },
  {
   "cell_type": "code",
   "execution_count": 29,
   "metadata": {
    "ExecuteTime": {
     "end_time": "2020-10-29T00:39:56.357534Z",
     "start_time": "2020-10-29T00:39:56.350039Z"
    },
    "colab": {},
    "colab_type": "code",
    "id": "oxoat0cbwCd6"
   },
   "outputs": [
    {
     "data": {
      "text/plain": [
       "array([[[ True,  True,  True,  True,  True],\n",
       "        [ True,  True,  True,  True,  True]],\n",
       "\n",
       "       [[ True,  True,  True,  True,  True],\n",
       "        [ True,  True,  True,  True,  True]],\n",
       "\n",
       "       [[ True,  True,  True,  True,  True],\n",
       "        [ True,  True,  True,  True,  True]]])"
      ]
     },
     "execution_count": 29,
     "metadata": {},
     "output_type": "execute_result"
    }
   ],
   "source": [
    "# your code/answer here\n",
    "e==a\n",
    "# As matrizes e e a são iguais porque qualquer matriz multiplicada pela matriz c vai ter como resultado ela mesma."
   ]
  },
  {
   "cell_type": "markdown",
   "metadata": {
    "colab_type": "text",
    "id": "b7ceZMcswCd9"
   },
   "source": [
    "#### 14. Identify the max, min, and mean values in *d*. Assign those values to variables *d_max*, *d_min* and *d_mean*."
   ]
  },
  {
   "cell_type": "code",
   "execution_count": 32,
   "metadata": {
    "ExecuteTime": {
     "end_time": "2020-10-29T00:41:36.791034Z",
     "start_time": "2020-10-29T00:41:36.782069Z"
    },
    "colab": {},
    "colab_type": "code",
    "id": "ljd7J4ucwCd-"
   },
   "outputs": [
    {
     "name": "stdout",
     "output_type": "stream",
     "text": [
      "1.9408834219448337\n",
      "1.1381177639792763\n",
      "1.4940181661744518\n"
     ]
    }
   ],
   "source": [
    "# your code here\n",
    "d_max=d.max() #d_max=np.max(d)\n",
    "d_min=d.min() #d_min=np.min(d)\n",
    "d_mean=d.mean() #d_mean=np.mean(d)\n",
    "\n",
    "print(d_max)\n",
    "print(d_min)\n",
    "print(d_mean)"
   ]
  },
  {
   "cell_type": "markdown",
   "metadata": {
    "colab_type": "text",
    "id": "bBmZ1bg3wCeC"
   },
   "source": [
    "#### 15. Now we want to label the values in *d*. First create an empty array *f* with the same shape (i.e. 3x2x5) as *d* using `np.empty`.\n"
   ]
  },
  {
   "cell_type": "code",
   "execution_count": 53,
   "metadata": {
    "ExecuteTime": {
     "end_time": "2020-10-29T00:51:48.095180Z",
     "start_time": "2020-10-29T00:51:48.087496Z"
    },
    "colab": {},
    "colab_type": "code",
    "id": "GVU7znV7wCeD"
   },
   "outputs": [
    {
     "data": {
      "text/plain": [
       "array([[[0.21123934, 0.71899323, 0.57208496, 0.53313291, 0.51651036],\n",
       "        [0.32057688, 0.22738824, 0.62303686, 0.42539173, 0.94088342]],\n",
       "\n",
       "       [[0.69688516, 0.91828465, 0.64198118, 0.23574665, 0.39037952],\n",
       "        [0.4576017 , 0.29553443, 0.22150482, 0.30698087, 0.86715478]],\n",
       "\n",
       "       [[0.88724792, 0.13811776, 0.37339351, 0.64886033, 0.47261009],\n",
       "        [0.43900204, 0.88293231, 0.21730322, 0.15846992, 0.48131618]]])"
      ]
     },
     "execution_count": 53,
     "metadata": {},
     "output_type": "execute_result"
    }
   ],
   "source": [
    "# your code here\n",
    "f=np.empty((3,2,5))\n",
    "f"
   ]
  },
  {
   "cell_type": "markdown",
   "metadata": {
    "colab_type": "text",
    "id": "cwZMaPTawCeG"
   },
   "source": [
    "#### 16. Populate the values in *f*. \n",
    "\n",
    "For each value in *d*, if it's larger than *d_min* but smaller than *d_mean*, assign 25 to the corresponding value in *f*. If a value in *d* is larger than *d_mean* but smaller than *d_max*, assign 75 to the corresponding value in *f*. If a value equals to *d_mean*, assign 50 to the corresponding value in *f*. Assign 0 to the corresponding value(s) in *f* for *d_min* in *d*. Assign 100 to the corresponding value(s) in *f* for *d_max* in *d*. In the end, f should have only the following values: 0, 25, 50, 75, and 100.\n",
    "\n",
    "**Note**: you don't have to use Numpy in this question."
   ]
  },
  {
   "cell_type": "code",
   "execution_count": 59,
   "metadata": {
    "ExecuteTime": {
     "end_time": "2020-10-29T01:05:04.648187Z",
     "start_time": "2020-10-29T01:05:04.641548Z"
    },
    "colab": {},
    "colab_type": "code",
    "id": "He3bA8_vwCeI"
   },
   "outputs": [],
   "source": [
    "# your code here\n",
    "for i in range(3):\n",
    "    for j in range(2):\n",
    "        for k in range(5):\n",
    "            if d[i,j,k]>d_min and d[i,j,k]<d_mean:\n",
    "                f[i,j,k]=25\n",
    "            elif d[i,j,k]>d_mean and d[i,j,k]<d_max:\n",
    "                f[i,j,k]=75\n",
    "            elif d[i,j,k]==d_mean:\n",
    "                f[i,j,k]=50\n",
    "            elif d[i,j,k]==d_min:\n",
    "                f[i,j,k]=0\n",
    "            elif d[i,j,k]==d_max:\n",
    "                f[i,j,k]=100"
   ]
  },
  {
   "cell_type": "markdown",
   "metadata": {
    "colab_type": "text",
    "id": "DtXatajMwCeM"
   },
   "source": [
    "#### 17. Print *d* and *f*. Do you have your expected *f*?\n",
    "For instance, if your *d* is:\n",
    "```python\n",
    "[[[1.85836099, 1.67064465, 1.62576044, 1.40243961, 1.88454931],\n",
    "  [1.75354326, 1.69403643, 1.36729252, 1.61415071, 1.12104981]],\n",
    "\n",
    "[[1.72201435, 1.1862918 , 1.87078449, 1.7726778 , 1.88180042],\n",
    "  [1.44747908, 1.31673383, 1.02000951, 1.52218947, 1.97066381]],\n",
    "\n",
    "[[1.79129243, 1.74983003, 1.96028037, 1.85166831, 1.65450881],\n",
    " [1.18068344, 1.9587381 , 1.00656599, 1.93402165, 1.73514584]]]\n",
    "```\n",
    "Your *f* should be:\n",
    "```python\n",
    "[[[ 75.  75.  75.  25.  75.]\n",
    "  [ 75.  75.  25.  25.  25.]]\n",
    "\n",
    " [[ 75.  25.  75.  75.  75.]\n",
    "  [ 25.  25.  25.  25. 100.]]\n",
    "\n",
    " [[ 75.  75.  75.  75.  75.]\n",
    "  [ 25.  75.   0.  75.  75.]]]\n",
    "```"
   ]
  },
  {
   "cell_type": "code",
   "execution_count": 62,
   "metadata": {
    "ExecuteTime": {
     "end_time": "2020-10-29T01:05:27.082087Z",
     "start_time": "2020-10-29T01:05:27.074380Z"
    },
    "colab": {},
    "colab_type": "code",
    "id": "wvC83zaUwCeN"
   },
   "outputs": [
    {
     "name": "stdout",
     "output_type": "stream",
     "text": [
      "[[[1.21123934 1.71899323 1.57208496 1.53313291 1.51651036]\n",
      "  [1.32057688 1.22738824 1.62303686 1.42539173 1.94088342]]\n",
      "\n",
      " [[1.69688516 1.91828465 1.64198118 1.23574665 1.39037952]\n",
      "  [1.4576017  1.29553443 1.22150482 1.30698087 1.86715478]]\n",
      "\n",
      " [[1.88724792 1.13811776 1.37339351 1.64886033 1.47261009]\n",
      "  [1.43900204 1.88293231 1.21730322 1.15846992 1.48131618]]]\n",
      "\n",
      "\n",
      "[[[ 25.  75.  75.  75.  75.]\n",
      "  [ 25.  25.  75.  25. 100.]]\n",
      "\n",
      " [[ 75.  75.  75.  25.  25.]\n",
      "  [ 25.  25.  25.  25.  75.]]\n",
      "\n",
      " [[ 75.   0.  25.  75.  25.]\n",
      "  [ 25.  75.  25.  25.  25.]]]\n"
     ]
    }
   ],
   "source": [
    "# your code here\n",
    "print(d)\n",
    "print(\"\\n\")\n",
    "print(f)"
   ]
  },
  {
   "cell_type": "markdown",
   "metadata": {
    "colab_type": "text",
    "id": "ppRoFFJBwCeS"
   },
   "source": [
    "#### 18. Bonus question: instead of using numbers (i.e. 0, 25, 50, 75, and 100), use string values  (\"A\", \"B\", \"C\", \"D\", and \"E\") to label the array elements. For the example above, the expected result is:\n",
    "\n",
    "```python\n",
    "[[['D' 'D' 'D' 'B' 'D']\n",
    "  ['D' 'D' 'B' 'B' 'B']]\n",
    "\n",
    " [['D' 'B' 'D' 'D' 'D']\n",
    "  ['B' 'B' 'B' 'B' 'E']]\n",
    "\n",
    " [['D' 'D' 'D' 'D' 'D']\n",
    "  ['B' 'D' 'A' 'D' 'D']]]\n",
    "```\n",
    "**Note**: you don't have to use Numpy in this question."
   ]
  },
  {
   "cell_type": "code",
   "execution_count": 66,
   "metadata": {
    "ExecuteTime": {
     "end_time": "2020-10-29T12:43:17.955900Z",
     "start_time": "2020-10-29T12:43:17.915803Z"
    },
    "colab": {},
    "colab_type": "code",
    "id": "xbBNSrnCwCeU"
   },
   "outputs": [
    {
     "name": "stdout",
     "output_type": "stream",
     "text": [
      "[[['B' 'D' 'D' 'D' 'D']\n",
      "  ['B' 'B' 'D' 'B' 'E']]\n",
      "\n",
      " [['D' 'D' 'D' 'B' 'B']\n",
      "  ['B' 'B' 'B' 'B' 'D']]\n",
      "\n",
      " [['D' 'A' 'B' 'D' 'B']\n",
      "  ['B' 'D' 'B' 'B' 'B']]]\n"
     ]
    }
   ],
   "source": [
    "# your code here\n",
    "f=f.astype(str)\n",
    "for i in range(3):\n",
    "    for j in range(2):\n",
    "        for k in range(5):\n",
    "            if d[i,j,k]>d_min and d[i,j,k]<d_mean:\n",
    "                f[i,j,k]=\"B\"\n",
    "            elif d[i,j,k]>d_mean and d[i,j,k]<d_max:\n",
    "                f[i,j,k]=\"D\"\n",
    "            elif d[i,j,k]==d_mean:\n",
    "                f[i,j,k]=\"C\"\n",
    "            elif d[i,j,k]==d_min:\n",
    "                f[i,j,k]=\"A\"\n",
    "            elif d[i,j,k]==d_max:\n",
    "                f[i,j,k]=\"E\"\n",
    "                \n",
    "print(f)"
   ]
  },
  {
   "cell_type": "markdown",
   "metadata": {
    "colab_type": "text",
    "id": "QzJyLQiFMsyT"
   },
   "source": [
    "## Additional Challenges for the Nerds\n",
    "\n",
    "If you are way ahead of your classmates and willing to accept some tough challenges about Numpy, take one or several of the following Codewar *katas*. \tYou need to already possess a good amount of knowledge in Python and statistics because you will need to write Python functions, do loops, write conditionals, and deal with matrices.\n",
    "\n",
    "* [Insert dashes](https://www.codewars.com/kata/insert-dashes)\n",
    "* [Thinkful - Logic Drills: Red and bumpy](https://www.codewars.com/kata/thinkful-logic-drills-red-and-bumpy)"
   ]
  },
  {
   "cell_type": "code",
   "execution_count": 0,
   "metadata": {
    "colab": {},
    "colab_type": "code",
    "id": "fy2EwolQMtfJ"
   },
   "outputs": [],
   "source": []
  }
 ],
 "metadata": {
  "colab": {
   "collapsed_sections": [],
   "name": "main.ipynb",
   "provenance": []
  },
  "hide_input": false,
  "kernelspec": {
   "display_name": "Python 3",
   "language": "python",
   "name": "python3"
  },
  "language_info": {
   "codemirror_mode": {
    "name": "ipython",
    "version": 3
   },
   "file_extension": ".py",
   "mimetype": "text/x-python",
   "name": "python",
   "nbconvert_exporter": "python",
   "pygments_lexer": "ipython3",
   "version": "3.8.2"
  },
  "toc": {
   "base_numbering": 1,
   "nav_menu": {},
   "number_sections": true,
   "sideBar": true,
   "skip_h1_title": false,
   "title_cell": "Table of Contents",
   "title_sidebar": "Contents",
   "toc_cell": false,
   "toc_position": {},
   "toc_section_display": true,
   "toc_window_display": false
  },
  "varInspector": {
   "cols": {
    "lenName": 16,
    "lenType": 16,
    "lenVar": 40
   },
   "kernels_config": {
    "python": {
     "delete_cmd_postfix": "",
     "delete_cmd_prefix": "del ",
     "library": "var_list.py",
     "varRefreshCmd": "print(var_dic_list())"
    },
    "r": {
     "delete_cmd_postfix": ") ",
     "delete_cmd_prefix": "rm(",
     "library": "var_list.r",
     "varRefreshCmd": "cat(var_dic_list()) "
    }
   },
   "types_to_exclude": [
    "module",
    "function",
    "builtin_function_or_method",
    "instance",
    "_Feature"
   ],
   "window_display": false
  }
 },
 "nbformat": 4,
 "nbformat_minor": 1
}
