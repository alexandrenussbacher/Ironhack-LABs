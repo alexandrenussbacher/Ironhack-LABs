{
 "cells": [
  {
   "cell_type": "markdown",
   "metadata": {
    "colab_type": "text",
    "id": "K8Is1eN2d44C"
   },
   "source": [
    "![Ironhack logo](https://i.imgur.com/1QgrNNw.png)\n",
    "\n",
    "# Lab | StackAPI\n",
    "Let's check if you can handle working with an API. \n",
    "\n",
    "Use [StackAPI](https://stackapi.readthedocs.io/en/latest/), a Python wrapper for the Stack Exchange API, and answer the following questions:\n",
    "\n",
    "* Question 1: Find the questions and answers of last month.\n",
    "* Question 2: Find the most voted question today with at least a score of 5 and tagged with 'python'. \n",
    "* Question 3: Find the answers with id 6784 and 6473."
   ]
  },
  {
   "cell_type": "markdown",
   "metadata": {
    "colab_type": "text",
    "id": "-yYqHg3Rd0d9"
   },
   "source": [
    "# StackAPI\n",
    "\n",
    "#### Import the necessary libraries here:"
   ]
  },
  {
   "cell_type": "code",
   "execution_count": 26,
   "metadata": {
    "ExecuteTime": {
     "end_time": "2020-11-10T16:48:34.628452Z",
     "start_time": "2020-11-10T16:48:33.282704Z"
    },
    "colab": {},
    "colab_type": "code",
    "id": "rsr8qdkYd0eF"
   },
   "outputs": [],
   "source": [
    "# your code here\n",
    "import requests\n",
    "from stackapi import StackAPI\n",
    "from datetime import datetime\n",
    "import pandas as pd"
   ]
  },
  {
   "cell_type": "markdown",
   "metadata": {
    "colab_type": "text",
    "id": "NmHoOsuud0ez"
   },
   "source": [
    "#### Question 1: Find the questions and answers of last month."
   ]
  },
  {
   "cell_type": "code",
   "execution_count": 29,
   "metadata": {
    "ExecuteTime": {
     "end_time": "2020-11-10T16:52:00.280740Z",
     "start_time": "2020-11-10T16:51:59.593415Z"
    }
   },
   "outputs": [
    {
     "data": {
      "text/plain": [
       "1601521200"
      ]
     },
     "execution_count": 29,
     "metadata": {},
     "output_type": "execute_result"
    }
   ],
   "source": [
    "SITE=StackAPI(\"stackoverflow\")\n",
    "\n",
    "data_inicio=int(datetime.timestamp(datetime(2020,10,1)))\n",
    "data_final=int(datetime.timestamp(datetime(2020,10,31)))\n",
    "\n"
   ]
  },
  {
   "cell_type": "code",
   "execution_count": 23,
   "metadata": {
    "ExecuteTime": {
     "end_time": "2020-11-10T15:16:31.926941Z",
     "start_time": "2020-11-10T15:16:31.041988Z"
    },
    "colab": {},
    "colab_type": "code",
    "id": "EtJY_9EId0e-"
   },
   "outputs": [
    {
     "data": {
      "text/plain": [
       "['Facebook JavaScript SDK: FB.init and FB.getLoginStatus always return the status &#39;unknown&#39; and reset status in session',\n",
       " 'Jenkins Running but not accessible through public IP address',\n",
       " 'Experience tab to measure CLS not visible in Devtools',\n",
       " 'Flutter: TextField onChanged handler silently swallows exceptions',\n",
       " 'passing value into shortcode via Scratch - not working',\n",
       " 'how to change axios encoding for query in koa app?',\n",
       " 'Error when using smtpJs to send email (JavaScript)',\n",
       " 'How to get Prettier to keep ending symbol of ending tag on the same line',\n",
       " 'java.lang.NoSuchMethodError: No virtual method getTextBounds Error in android',\n",
       " 'Python to connect to Oracle with OVD',\n",
       " 'Shapes not aligned: Scipy&#39;s fmin_tnc function',\n",
       " 'How do I stop .NET Telemetry to stop collecting data in Ubuntu Linux',\n",
       " 'Docker image build fails due to Kurento-Client dependency',\n",
       " 'How to remove &quot;assets&quot; error in pytube in python?',\n",
       " 'Why is &#39;null&#39; removed from return type of Document.getElementById in VS Code?',\n",
       " 'error trying to create extension: pg_stat_statement',\n",
       " 'App opens console window when being build with Docker',\n",
       " 'OpenSeadragon Annotorious',\n",
       " 'How to support custom tiles in large screen in vuetify?',\n",
       " 'Convert ARkit planes to 2d representation?',\n",
       " 'postgresql.conf setting is ignored because it is defunct',\n",
       " 'Cooldown for Commands not Functioning Discord.js',\n",
       " 'How to count all the palindromes in a string using recursion?',\n",
       " 'Prepend data to a FlatList on react native web, while maintaining visible content',\n",
       " 'Permission denied on /etc/prometheus/prometheus.yml; cannot deploy prom/prometheus',\n",
       " 'Is there a limit on how many devices can access the asynchronous webserver of an ESP32',\n",
       " 'Anypoint Studio - Manage API is disabled',\n",
       " 'Filling in multiple columns of missing data from another dataset',\n",
       " 'Prisma ^2.0 can&#39;t handle database creation and table creation?',\n",
       " 'SSRS report with different data']"
      ]
     },
     "execution_count": 23,
     "metadata": {},
     "output_type": "execute_result"
    }
   ],
   "source": [
    "# your code here\n",
    "# the time used in this API is in Unix epoch time!\n",
    "# https://en.wikipedia.org/wiki/Unix_time\n",
    "response=requests.get(\"https://api.stackexchange.com/2.2/questions?fromdate=1601510400&todate=1604102400&order=desc&sort=activity&site=stackoverflow\")\n",
    "results=response.json()\n",
    "lista=[]\n",
    "for i in range(len(results[\"items\"])):\n",
    "    lista.append(results[\"items\"][i][\"title\"])\n",
    "    \n",
    "lista"
   ]
  },
  {
   "cell_type": "code",
   "execution_count": null,
   "metadata": {},
   "outputs": [],
   "source": [
    "StackAPI()"
   ]
  },
  {
   "cell_type": "code",
   "execution_count": null,
   "metadata": {},
   "outputs": [],
   "source": []
  },
  {
   "cell_type": "markdown",
   "metadata": {
    "colab_type": "text",
    "id": "suUfAhohd0fd"
   },
   "source": [
    "#### Question 2: Find the most voted question today with at least a score of 5 and tagged with 'python'. "
   ]
  },
  {
   "cell_type": "code",
   "execution_count": null,
   "metadata": {
    "colab": {},
    "colab_type": "code",
    "id": "B2qabqZbd0fh"
   },
   "outputs": [],
   "source": [
    "# your code here"
   ]
  },
  {
   "cell_type": "markdown",
   "metadata": {
    "colab_type": "text",
    "id": "_zTlJ-fed0gH"
   },
   "source": [
    "#### Question 3: Find the answers with id 6784 and 6473."
   ]
  },
  {
   "cell_type": "code",
   "execution_count": null,
   "metadata": {
    "colab": {},
    "colab_type": "code",
    "id": "OXqrZj6od0gN"
   },
   "outputs": [],
   "source": [
    "# your code here"
   ]
  }
 ],
 "metadata": {
  "colab": {
   "collapsed_sections": [],
   "name": "main.ipynb",
   "provenance": []
  },
  "hide_input": false,
  "kernelspec": {
   "display_name": "Python 3",
   "language": "python",
   "name": "python3"
  },
  "language_info": {
   "codemirror_mode": {
    "name": "ipython",
    "version": 3
   },
   "file_extension": ".py",
   "mimetype": "text/x-python",
   "name": "python",
   "nbconvert_exporter": "python",
   "pygments_lexer": "ipython3",
   "version": "3.8.2"
  },
  "toc": {
   "base_numbering": 1,
   "nav_menu": {},
   "number_sections": true,
   "sideBar": true,
   "skip_h1_title": false,
   "title_cell": "Table of Contents",
   "title_sidebar": "Contents",
   "toc_cell": false,
   "toc_position": {},
   "toc_section_display": true,
   "toc_window_display": false
  },
  "varInspector": {
   "cols": {
    "lenName": 16,
    "lenType": 16,
    "lenVar": 40
   },
   "kernels_config": {
    "python": {
     "delete_cmd_postfix": "",
     "delete_cmd_prefix": "del ",
     "library": "var_list.py",
     "varRefreshCmd": "print(var_dic_list())"
    },
    "r": {
     "delete_cmd_postfix": ") ",
     "delete_cmd_prefix": "rm(",
     "library": "var_list.r",
     "varRefreshCmd": "cat(var_dic_list()) "
    }
   },
   "types_to_exclude": [
    "module",
    "function",
    "builtin_function_or_method",
    "instance",
    "_Feature"
   ],
   "window_display": false
  }
 },
 "nbformat": 4,
 "nbformat_minor": 1
}
